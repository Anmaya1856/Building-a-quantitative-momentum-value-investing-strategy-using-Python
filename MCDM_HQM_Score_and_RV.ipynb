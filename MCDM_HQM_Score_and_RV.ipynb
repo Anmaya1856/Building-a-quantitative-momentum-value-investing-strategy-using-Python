{
  "nbformat": 4,
  "nbformat_minor": 0,
  "metadata": {
    "colab": {
      "name": "MCDM HQM Score and RV.ipynb",
      "provenance": [],
      "collapsed_sections": [
        "Z8qkqFeQXpkp"
      ]
    },
    "kernelspec": {
      "name": "python3",
      "display_name": "Python 3"
    },
    "language_info": {
      "name": "python"
    }
  },
  "cells": [
    {
      "cell_type": "code",
      "metadata": {
        "id": "QjX1ZI_4P9Xf"
      },
      "source": [
        "import pandas as pd\n",
        "import numpy as np\n",
        "from matplotlib import pyplot as plt"
      ],
      "execution_count": null,
      "outputs": []
    },
    {
      "cell_type": "markdown",
      "metadata": {
        "id": "Z8qkqFeQXpkp"
      },
      "source": [
        "#MCDM Function\n"
      ]
    },
    {
      "cell_type": "code",
      "metadata": {
        "colab": {
          "base_uri": "https://localhost:8080/"
        },
        "id": "Gpac0l2tXkr7",
        "outputId": "6006f4a2-f568-4f82-9945-b220d1141f9c"
      },
      "source": [
        "import matplotlib.pyplot as plt\n",
        "from IPython.display import HTML\n",
        "\n",
        "class Mcdm:\n",
        "    \"\"\"m = Mcdm(opts)\n",
        "\n",
        "    Multicriteria decision making aid\n",
        "    following the 'Pugh' scoring approach\n",
        "    starting with 'opts' as a tuple of option\n",
        "    identifiers.\n",
        "\n",
        "    Example:\n",
        "      m = Mcdm(('Car', 'Bus', 'Train'))\"\"\"\n",
        "\n",
        "    def __init__(self,opts):\n",
        "        self.options = opts\n",
        "        self.scores = {}\n",
        "        self._criteria = []\n",
        "    \n",
        "    def copy(self,reset_scores=False):\n",
        "        new_mcdm = Mcdm(self.options)\n",
        "        for (opt,cri) in self.scores.keys():\n",
        "            new_val = 0.0\n",
        "            if not reset_scores:\n",
        "                new_val = self.get_score(opt,cri)\n",
        "            new_mcdm.set_score(opt,cri,new_val)\n",
        "        return(new_mcdm)\n",
        "    \n",
        "    def __add__(self,other):\n",
        "        new_mcdm = self.copy()\n",
        "        for (opt,cri) in other.scores.keys():\n",
        "            assert (opt in self.options), \"No such option: {}\".format(opt)\n",
        "            self_val = self.get_score(opt,cri)\n",
        "            add_val = other.get_score(opt,cri)\n",
        "            new_mcdm.set_score(opt,cri,self_val+add_val)\n",
        "        return(new_mcdm)        \n",
        "    \n",
        "    def set_score(self,opt,cri,val):\n",
        "        \"\"\"m.set_score(opt,cri,val)\n",
        "\n",
        "        Set score for option against criterion.\n",
        "        Will introduce new criterion if not scored\n",
        "        before, but will fail if option was not\n",
        "        included at initialization.\"\"\"\n",
        "        assert (opt in self.options), \"No such option: {}\".format(opt)\n",
        "        self.scores[(opt,cri)]=val\n",
        "        # and add to critria list\n",
        "        if not cri in self._criteria:\n",
        "            self._criteria.append(cri)\n",
        "            \n",
        "    def set_scores_dict(self,score_dict):\n",
        "        \"\"\"m.set_scores_dict(self,score_dict)\n",
        "        \n",
        "        Set multiple scores at once via dictionary.\n",
        "        Each key should be (opt,cri) and each value\n",
        "        should be a score.\n",
        "        Example:\n",
        "        \n",
        "        m.set_scores_dict({('Car','Speed'):1,('Car','Comfort'):-1})\"\"\"\n",
        "        for (opt,cri) in score_dict.keys():\n",
        "            assert (opt in self.options), \"No such option: {}\".format(opt)\n",
        "            self.set_score(opt,cri,score_dict[(opt,cri)])\n",
        "            \n",
        "    def criteria(self):\n",
        "        #return(set([cri for (opt,cri) in self.scores]))\n",
        "        return self._criteria\n",
        "\n",
        "    def get_score(self,opt,cri):\n",
        "        assert (opt in self.options), \"No such option: {}\".format(opt)\n",
        "        assert (cri in self.criteria()), \"No such criterion: {}\".format(cri)\n",
        "        val = 0.0\n",
        "        if (opt,cri) in self.scores.keys():\n",
        "            val = self.scores[(opt,cri)]\n",
        "        return(val)\n",
        "\n",
        "    def max_score(self):\n",
        "        return(max([max([self.get_score(opt,cri) for opt in self.options])\n",
        " for cri in self.criteria()]))\n",
        "\n",
        "    def min_score(self):\n",
        "        return(min([min([self.get_score(opt,cri) for opt in self.options])\n",
        " for cri in self.criteria()]))\n",
        "\n",
        "    def _rescale_all(self):\n",
        "        \"\"\"Rescale all scores linearly to range [0,1]\"\"\"\n",
        "        new_mcdm = self.copy()\n",
        "        mn = self.min_score()\n",
        "        rg = self.max_score() - mn\n",
        "        for opt in self.options:\n",
        "            for cri in self.criteria():\n",
        "                new_val = (self.get_score(opt,cri) - mn)/rg\n",
        "                new_mcdm.set_score(opt,cri,new_val)\n",
        "        return(new_mcdm)\n",
        "\n",
        "    def _rescale_each_col(self):\n",
        "        \"\"\"Rescale each column's scores linearly\n",
        "        such that each column fills range [0,1]\"\"\"\n",
        "        new_mcdm = self.copy()\n",
        "        for cri in self.criteria():\n",
        "            mn = self.select_criteria([cri]).min_score()\n",
        "            rg = self.select_criteria([cri]).max_score() - mn\n",
        "            for opt in self.options:\n",
        "                new_val = (self.get_score(opt,cri) - mn)/rg\n",
        "                new_mcdm.set_score(opt,cri,new_val)\n",
        "        return(new_mcdm)\n",
        "\n",
        "    def rescale(self,by_columns=False):\n",
        "        \"\"\"Rescale all scores linearly to range [0,1]\"\"\"\n",
        "        if by_columns:\n",
        "            return(self._rescale_each_col())\n",
        "        else:\n",
        "            return(self._rescale_all())\n",
        "\n",
        "    def weight_criteria(self,name,weights):\n",
        "        for cri in weights.keys():\n",
        "            assert cri in self.criteria(), \"No such criterion: {}\".format(cri)\n",
        "        for opt in self.options:\n",
        "            new_score = sum([weights[cri]*self.get_score(opt,cri) for cri in weights.keys()])\n",
        "            self.set_score(opt,name,new_score)\n",
        "\n",
        "    def weight_mixture(self, cri_list=None):\n",
        "        if cri_list is None:\n",
        "            cri_list=self.criteria()\n",
        "        for cri in cri_list:\n",
        "            assert cri in self.criteria(), \"No such criterion: {}\".format(cri)\n",
        "        num_cri = len(cri_list)\n",
        "        for cri in cri_list:\n",
        "            this_name = str(cri)+\"_High\"\n",
        "            this_weight = {c: 1.0/(1.0+num_cri) for c in cri_list}\n",
        "            this_weight[cri] = this_weight[cri]*2.0\n",
        "            self.weight_criteria(this_name,this_weight)\n",
        "\n",
        "    def select_criteria(self,cri_list):\n",
        "        for cri in cri_list:\n",
        "            assert cri in self.criteria(), \"No such criterion: {}\".format(cri)\n",
        "        new_mcdm = Mcdm(self.options)\n",
        "        for cri in cri_list:\n",
        "            for opt in self.options:\n",
        "                new_mcdm.set_score(opt,cri,self.get_score(opt,cri))\n",
        "        return(new_mcdm)\n",
        "    \n",
        "    def select_options(self,opt_list):\n",
        "        for opt in opt_list:\n",
        "            assert opt in self.options, \"No such criterion: {}\".format(opt)\n",
        "        new_mcdm = Mcdm(opt_list)\n",
        "        for cri in self.criteria():\n",
        "            for opt in opt_list:\n",
        "                new_mcdm.set_score(opt,cri,self.get_score(opt,cri))\n",
        "        return(new_mcdm)\n",
        "\n",
        "    def plot(self,show=True):\n",
        "        width=0.1\n",
        "        colors=['c','m','y','k','b','r','g']\n",
        "        fig,ax = plt.subplots()\n",
        "        for (ii,cri) in enumerate(self.criteria()):\n",
        "            cri_ind = [jj+ii*width for jj in range(len(self.options))]\n",
        "            cri_score = [self.get_score(opt,cri) for opt in self.options]\n",
        "            ax.bar(cri_ind,cri_score,width,color=colors[ii%len(colors)],label=str(cri))\n",
        "        ax.set_xticks([jj+0.5*ii*width for jj in range(len(self.options))])\n",
        "        ax.set_xticklabels(self.options)\n",
        "        ax.legend()\n",
        "        if show:\n",
        "            plt.show()\n",
        "        return(ax)\n",
        "\n",
        "    def __repr__(self):\n",
        "        opt_fmt='{:8}'\n",
        "        cri_name_fmt='{:>8.8}'\n",
        "        cri_val_fmt='{:8.3f}'\n",
        "        sep = ' : '\n",
        "        header = opt_fmt.format('Option') + sep + sep.join([cri_name_fmt.format(cri) for cri in self.criteria()]) + '\\n'\n",
        "        rows = '\\n'.join([opt_fmt.format(opt) + sep + sep.join([cri_val_fmt.format(self.get_score(opt,cri)) for cri in self.criteria()]) for opt in self.options]) + '\\n'\n",
        "        row_sep = '='*8 + sep + sep.join(['='*8 for cri in self.criteria()]) + '\\n'\n",
        "        return(header+row_sep+rows+row_sep)\n",
        "\n",
        "    def _raw_html(self):\n",
        "        table_start = '<table>\\n'\n",
        "        header = '<tr><th>{}</th>'.format('Option') + ' '.join(['<th>{}</th>'.format(cri) for cri in self.criteria()]) + '</tr>\\n'\n",
        "        rows = '\\n'.join(['<tr><th>{}</th>'.format(opt) + ' '.join(['<td>{:8.3f}</td>'.format(self.get_score(opt,cri)) for cri in self.criteria()]) + '</tr>' for opt in self.options])\n",
        "        table_stop = '\\n</table>\\n'\n",
        "        return(table_start+header+rows+table_stop)\n",
        "\n",
        "    def to_html(self):\n",
        "        return(HTML(self._raw_html()))\n",
        "    \n",
        "def travel_example():\n",
        "    travel = Mcdm(('Car','Bus','Train'))\n",
        "    travel.set_score('Car','Fuel',-1.0)\n",
        "    travel.set_score('Train','Price',1.0)\n",
        "    print(travel)\n",
        "    travel.rescale()\n",
        "    print(travel)\n",
        "    travel.weight_criteria('Intuit',{'Fuel': 1.0, 'Price': 0.1})\n",
        "    print(travel)\n",
        "    travel.weight_mixture(['Fuel','Price'])\n",
        "    print(travel)\n",
        "    print(travel.select_criteria(['Fuel_High','Price_High','Intuit']))\n",
        "    travel.select_criteria(['Fuel_High','Price_High','Intuit']).plot()\n",
        "    return(travel)\n",
        "\n",
        "if __name__=='__main__':\n",
        "    t=travel_example()\n"
      ],
      "execution_count": null,
      "outputs": [
        {
          "output_type": "stream",
          "name": "stdout",
          "text": [
            "Option   :     Fuel :    Price\n",
            "======== : ======== : ========\n",
            "Car      :   -1.000 :    0.000\n",
            "Bus      :    0.000 :    0.000\n",
            "Train    :    0.000 :    1.000\n",
            "======== : ======== : ========\n",
            "\n",
            "Option   :     Fuel :    Price\n",
            "======== : ======== : ========\n",
            "Car      :   -1.000 :    0.000\n",
            "Bus      :    0.000 :    0.000\n",
            "Train    :    0.000 :    1.000\n",
            "======== : ======== : ========\n",
            "\n",
            "Option   :     Fuel :    Price :   Intuit\n",
            "======== : ======== : ======== : ========\n",
            "Car      :   -1.000 :    0.000 :   -1.000\n",
            "Bus      :    0.000 :    0.000 :    0.000\n",
            "Train    :    0.000 :    1.000 :    0.100\n",
            "======== : ======== : ======== : ========\n",
            "\n",
            "Option   :     Fuel :    Price :   Intuit : Fuel_Hig : Price_Hi\n",
            "======== : ======== : ======== : ======== : ======== : ========\n",
            "Car      :   -1.000 :    0.000 :   -1.000 :   -0.667 :   -0.333\n",
            "Bus      :    0.000 :    0.000 :    0.000 :    0.000 :    0.000\n",
            "Train    :    0.000 :    1.000 :    0.100 :    0.333 :    0.667\n",
            "======== : ======== : ======== : ======== : ======== : ========\n",
            "\n",
            "Option   : Fuel_Hig : Price_Hi :   Intuit\n",
            "======== : ======== : ======== : ========\n",
            "Car      :   -0.667 :   -0.333 :   -1.000\n",
            "Bus      :    0.000 :    0.000 :    0.000\n",
            "Train    :    0.333 :    0.667 :    0.100\n",
            "======== : ======== : ======== : ========\n",
            "\n"
          ]
        },
        {
          "output_type": "display_data",
          "data": {
            "image/png": "[encoded data removed]",
            "text/plain": [
              "<Figure size 432x288 with 1 Axes>"
            ]
          },
          "metadata": {
            "needs_background": "light"
          }
        }
      ]
    },
    {
      "cell_type": "markdown",
      "metadata": {
        "id": "BusHvKMAYBPz"
      },
      "source": [
        "#HQM Score"
      ]
    },
    {
      "cell_type": "code",
      "metadata": {
        "id": "rwgqEQ-UOxsM"
      },
      "source": [
        "read_file = pd.read_excel (\"momentum_strategy.xlsx\")"
      ],
      "execution_count": null,
      "outputs": []
    },
    {
      "cell_type": "code",
      "metadata": {
        "colab": {
          "base_uri": "https://localhost:8080/",
          "height": 357
        },
        "id": "272DPcRYQJGJ",
        "outputId": "558048ae-0d6f-4b5a-82d3-7add80545d17"
      },
      "source": [
        "read_file.to_csv (\"momentum_strategy.csv\",\n",
        "\t\t\t\tindex = None,\n",
        "\t\t\t\theader=True)\n",
        "\n",
        "df = pd.DataFrame(pd.read_csv(\"momentum_strategy.csv\",nrows=10))\n",
        "y = ['One-Year Price Return', 'Six-Month Price Return','Three-Month Price Return','One-Month Price Return', 'HQM']\n",
        "df = df.drop(y,axis=1)\n",
        "df"
      ],
      "execution_count": null,
      "outputs": [
        {
          "output_type": "execute_result",
          "data": {
            "text/html": [
              "<div>\n",
              "<style scoped>\n",
              "    .dataframe tbody tr th:only-of-type {\n",
              "        vertical-align: middle;\n",
              "    }\n",
              "\n",
              "    .dataframe tbody tr th {\n",
              "        vertical-align: top;\n",
              "    }\n",
              "\n",
              "    .dataframe thead th {\n",
              "        text-align: right;\n",
              "    }\n",
              "</style>\n",
              "<table border=\"1\" class=\"dataframe\">\n",
              "  <thead>\n",
              "    <tr style=\"text-align: right;\">\n",
              "      <th></th>\n",
              "      <th>Ticker</th>\n",
              "      <th>Price</th>\n",
              "      <th>One-Year Return Percentile</th>\n",
              "      <th>Six-Month Return Percentile</th>\n",
              "      <th>Three-Month Return Percentile</th>\n",
              "      <th>One-Month Return Percentile</th>\n",
              "    </tr>\n",
              "  </thead>\n",
              "  <tbody>\n",
              "    <tr>\n",
              "      <th>0</th>\n",
              "      <td>A</td>\n",
              "      <td>159.83</td>\n",
              "      <td>0.685149</td>\n",
              "      <td>0.712871</td>\n",
              "      <td>0.516832</td>\n",
              "      <td>0.041584</td>\n",
              "    </tr>\n",
              "    <tr>\n",
              "      <th>1</th>\n",
              "      <td>AAL</td>\n",
              "      <td>19.48</td>\n",
              "      <td>0.716832</td>\n",
              "      <td>0.146535</td>\n",
              "      <td>0.095050</td>\n",
              "      <td>0.019802</td>\n",
              "    </tr>\n",
              "    <tr>\n",
              "      <th>2</th>\n",
              "      <td>AAP</td>\n",
              "      <td>240.10</td>\n",
              "      <td>0.702970</td>\n",
              "      <td>0.718812</td>\n",
              "      <td>0.651485</td>\n",
              "      <td>0.728713</td>\n",
              "    </tr>\n",
              "    <tr>\n",
              "      <th>3</th>\n",
              "      <td>AAPL</td>\n",
              "      <td>155.20</td>\n",
              "      <td>0.451485</td>\n",
              "      <td>0.607921</td>\n",
              "      <td>0.384158</td>\n",
              "      <td>0.417822</td>\n",
              "    </tr>\n",
              "    <tr>\n",
              "      <th>4</th>\n",
              "      <td>ABBV</td>\n",
              "      <td>109.10</td>\n",
              "      <td>0.518812</td>\n",
              "      <td>0.310891</td>\n",
              "      <td>0.140594</td>\n",
              "      <td>0.508911</td>\n",
              "    </tr>\n",
              "    <tr>\n",
              "      <th>5</th>\n",
              "      <td>ABC</td>\n",
              "      <td>127.80</td>\n",
              "      <td>0.388119</td>\n",
              "      <td>0.388119</td>\n",
              "      <td>0.435644</td>\n",
              "      <td>0.358416</td>\n",
              "    </tr>\n",
              "    <tr>\n",
              "      <th>6</th>\n",
              "      <td>ABMD</td>\n",
              "      <td>367.57</td>\n",
              "      <td>0.392079</td>\n",
              "      <td>0.366337</td>\n",
              "      <td>0.657426</td>\n",
              "      <td>0.413861</td>\n",
              "    </tr>\n",
              "    <tr>\n",
              "      <th>7</th>\n",
              "      <td>ABT</td>\n",
              "      <td>131.24</td>\n",
              "      <td>0.312871</td>\n",
              "      <td>0.431683</td>\n",
              "      <td>0.564356</td>\n",
              "      <td>0.485149</td>\n",
              "    </tr>\n",
              "    <tr>\n",
              "      <th>8</th>\n",
              "      <td>ACN</td>\n",
              "      <td>358.58</td>\n",
              "      <td>0.748515</td>\n",
              "      <td>0.831683</td>\n",
              "      <td>0.790099</td>\n",
              "      <td>0.675248</td>\n",
              "    </tr>\n",
              "    <tr>\n",
              "      <th>9</th>\n",
              "      <td>ADBE</td>\n",
              "      <td>678.99</td>\n",
              "      <td>0.479208</td>\n",
              "      <td>0.873267</td>\n",
              "      <td>0.497030</td>\n",
              "      <td>0.590099</td>\n",
              "    </tr>\n",
              "  </tbody>\n",
              "</table>\n",
              "</div>"
            ],
            "text/plain": [
              "  Ticker   Price  ...  Three-Month Return Percentile  One-Month Return Percentile\n",
              "0      A  159.83  ...                       0.516832                     0.041584\n",
              "1    AAL   19.48  ...                       0.095050                     0.019802\n",
              "2    AAP  240.10  ...                       0.651485                     0.728713\n",
              "3   AAPL  155.20  ...                       0.384158                     0.417822\n",
              "4   ABBV  109.10  ...                       0.140594                     0.508911\n",
              "5    ABC  127.80  ...                       0.435644                     0.358416\n",
              "6   ABMD  367.57  ...                       0.657426                     0.413861\n",
              "7    ABT  131.24  ...                       0.564356                     0.485149\n",
              "8    ACN  358.58  ...                       0.790099                     0.675248\n",
              "9   ADBE  678.99  ...                       0.497030                     0.590099\n",
              "\n",
              "[10 rows x 6 columns]"
            ]
          },
          "metadata": {},
          "execution_count": 6
        }
      ]
    },
    {
      "cell_type": "code",
      "metadata": {
        "colab": {
          "base_uri": "https://localhost:8080/",
          "height": 357
        },
        "id": "ECqEJTnkeqo6",
        "outputId": "df85ec92-8742-4e73-92b9-457326f9dc19"
      },
      "source": [
        "for i in df.index:\n",
        "  df.loc[i,'Price'] = df.loc[i,'Price'] * (-1)\n",
        "df"
      ],
      "execution_count": null,
      "outputs": [
        {
          "output_type": "execute_result",
          "data": {
            "text/html": [
              "<div>\n",
              "<style scoped>\n",
              "    .dataframe tbody tr th:only-of-type {\n",
              "        vertical-align: middle;\n",
              "    }\n",
              "\n",
              "    .dataframe tbody tr th {\n",
              "        vertical-align: top;\n",
              "    }\n",
              "\n",
              "    .dataframe thead th {\n",
              "        text-align: right;\n",
              "    }\n",
              "</style>\n",
              "<table border=\"1\" class=\"dataframe\">\n",
              "  <thead>\n",
              "    <tr style=\"text-align: right;\">\n",
              "      <th></th>\n",
              "      <th>Ticker</th>\n",
              "      <th>Price</th>\n",
              "      <th>One-Year Return Percentile</th>\n",
              "      <th>Six-Month Return Percentile</th>\n",
              "      <th>Three-Month Return Percentile</th>\n",
              "      <th>One-Month Return Percentile</th>\n",
              "    </tr>\n",
              "  </thead>\n",
              "  <tbody>\n",
              "    <tr>\n",
              "      <th>0</th>\n",
              "      <td>A</td>\n",
              "      <td>-159.83</td>\n",
              "      <td>0.685149</td>\n",
              "      <td>0.712871</td>\n",
              "      <td>0.516832</td>\n",
              "      <td>0.041584</td>\n",
              "    </tr>\n",
              "    <tr>\n",
              "      <th>1</th>\n",
              "      <td>AAL</td>\n",
              "      <td>-19.48</td>\n",
              "      <td>0.716832</td>\n",
              "      <td>0.146535</td>\n",
              "      <td>0.095050</td>\n",
              "      <td>0.019802</td>\n",
              "    </tr>\n",
              "    <tr>\n",
              "      <th>2</th>\n",
              "      <td>AAP</td>\n",
              "      <td>-240.10</td>\n",
              "      <td>0.702970</td>\n",
              "      <td>0.718812</td>\n",
              "      <td>0.651485</td>\n",
              "      <td>0.728713</td>\n",
              "    </tr>\n",
              "    <tr>\n",
              "      <th>3</th>\n",
              "      <td>AAPL</td>\n",
              "      <td>-155.20</td>\n",
              "      <td>0.451485</td>\n",
              "      <td>0.607921</td>\n",
              "      <td>0.384158</td>\n",
              "      <td>0.417822</td>\n",
              "    </tr>\n",
              "    <tr>\n",
              "      <th>4</th>\n",
              "      <td>ABBV</td>\n",
              "      <td>-109.10</td>\n",
              "      <td>0.518812</td>\n",
              "      <td>0.310891</td>\n",
              "      <td>0.140594</td>\n",
              "      <td>0.508911</td>\n",
              "    </tr>\n",
              "    <tr>\n",
              "      <th>5</th>\n",
              "      <td>ABC</td>\n",
              "      <td>-127.80</td>\n",
              "      <td>0.388119</td>\n",
              "      <td>0.388119</td>\n",
              "      <td>0.435644</td>\n",
              "      <td>0.358416</td>\n",
              "    </tr>\n",
              "    <tr>\n",
              "      <th>6</th>\n",
              "      <td>ABMD</td>\n",
              "      <td>-367.57</td>\n",
              "      <td>0.392079</td>\n",
              "      <td>0.366337</td>\n",
              "      <td>0.657426</td>\n",
              "      <td>0.413861</td>\n",
              "    </tr>\n",
              "    <tr>\n",
              "      <th>7</th>\n",
              "      <td>ABT</td>\n",
              "      <td>-131.24</td>\n",
              "      <td>0.312871</td>\n",
              "      <td>0.431683</td>\n",
              "      <td>0.564356</td>\n",
              "      <td>0.485149</td>\n",
              "    </tr>\n",
              "    <tr>\n",
              "      <th>8</th>\n",
              "      <td>ACN</td>\n",
              "      <td>-358.58</td>\n",
              "      <td>0.748515</td>\n",
              "      <td>0.831683</td>\n",
              "      <td>0.790099</td>\n",
              "      <td>0.675248</td>\n",
              "    </tr>\n",
              "    <tr>\n",
              "      <th>9</th>\n",
              "      <td>ADBE</td>\n",
              "      <td>-678.99</td>\n",
              "      <td>0.479208</td>\n",
              "      <td>0.873267</td>\n",
              "      <td>0.497030</td>\n",
              "      <td>0.590099</td>\n",
              "    </tr>\n",
              "  </tbody>\n",
              "</table>\n",
              "</div>"
            ],
            "text/plain": [
              "  Ticker   Price  ...  Three-Month Return Percentile  One-Month Return Percentile\n",
              "0      A -159.83  ...                       0.516832                     0.041584\n",
              "1    AAL  -19.48  ...                       0.095050                     0.019802\n",
              "2    AAP -240.10  ...                       0.651485                     0.728713\n",
              "3   AAPL -155.20  ...                       0.384158                     0.417822\n",
              "4   ABBV -109.10  ...                       0.140594                     0.508911\n",
              "5    ABC -127.80  ...                       0.435644                     0.358416\n",
              "6   ABMD -367.57  ...                       0.657426                     0.413861\n",
              "7    ABT -131.24  ...                       0.564356                     0.485149\n",
              "8    ACN -358.58  ...                       0.790099                     0.675248\n",
              "9   ADBE -678.99  ...                       0.497030                     0.590099\n",
              "\n",
              "[10 rows x 6 columns]"
            ]
          },
          "metadata": {},
          "execution_count": 7
        }
      ]
    },
    {
      "cell_type": "code",
      "metadata": {
        "colab": {
          "base_uri": "https://localhost:8080/"
        },
        "id": "21iXaYdYQ5Ie",
        "outputId": "23e9b672-c0dd-4419-dd22-88bbc7b3a3d5"
      },
      "source": [
        "tickerval = df['Ticker'].tolist()\n",
        "tickerval"
      ],
      "execution_count": null,
      "outputs": [
        {
          "output_type": "execute_result",
          "data": {
            "text/plain": [
              "['A', 'AAL', 'AAP', 'AAPL', 'ABBV', 'ABC', 'ABMD', 'ABT', 'ACN', 'ADBE']"
            ]
          },
          "metadata": {},
          "execution_count": 8
        }
      ]
    },
    {
      "cell_type": "code",
      "metadata": {
        "colab": {
          "base_uri": "https://localhost:8080/",
          "height": 243
        },
        "id": "WBwP_DjeTZwH",
        "outputId": "c664d23a-9717-4874-80ee-59b3984d2818"
      },
      "source": [
        "uav = Mcdm(tickerval)\n",
        "uav.to_html()"
      ],
      "execution_count": null,
      "outputs": [
        {
          "output_type": "execute_result",
          "data": {
            "text/html": [
              "<table>\n",
              "<tr><th>Option</th></tr>\n",
              "<tr><th>A</th></tr>\n",
              "<tr><th>AAL</th></tr>\n",
              "<tr><th>AAP</th></tr>\n",
              "<tr><th>AAPL</th></tr>\n",
              "<tr><th>ABBV</th></tr>\n",
              "<tr><th>ABC</th></tr>\n",
              "<tr><th>ABMD</th></tr>\n",
              "<tr><th>ABT</th></tr>\n",
              "<tr><th>ACN</th></tr>\n",
              "<tr><th>ADBE</th></tr>\n",
              "</table>\n"
            ],
            "text/plain": [
              "<IPython.core.display.HTML object>"
            ]
          },
          "metadata": {},
          "execution_count": 9
        }
      ]
    },
    {
      "cell_type": "code",
      "metadata": {
        "colab": {
          "base_uri": "https://localhost:8080/"
        },
        "id": "8UOVE9CPYmr_",
        "outputId": "fead3c8d-bae2-4185-de6c-a12302b9ebaf"
      },
      "source": [
        "columns = list(df.columns.values)\n",
        "columns.pop(0)\n",
        "columns"
      ],
      "execution_count": null,
      "outputs": [
        {
          "output_type": "execute_result",
          "data": {
            "text/plain": [
              "['Price',\n",
              " 'One-Year Return Percentile',\n",
              " 'Six-Month Return Percentile',\n",
              " 'Three-Month Return Percentile',\n",
              " 'One-Month Return Percentile']"
            ]
          },
          "metadata": {},
          "execution_count": 10
        }
      ]
    },
    {
      "cell_type": "code",
      "metadata": {
        "colab": {
          "base_uri": "https://localhost:8080/",
          "height": 243
        },
        "id": "8Je60OG6EEh3",
        "outputId": "1b02d349-08de-48fc-b330-627dfd623a64"
      },
      "source": [
        "for tick in range(len(tickerval)):\n",
        "  for col in columns:\n",
        "    uav.set_score(df.loc[tick, 'Ticker'],col, df.loc[tick, col])\n",
        "uav.to_html()\n"
      ],
      "execution_count": null,
      "outputs": [
        {
          "output_type": "execute_result",
          "data": {
            "text/html": [
              "<table>\n",
              "<tr><th>Option</th><th>Price</th> <th>One-Year Return Percentile</th> <th>Six-Month Return Percentile</th> <th>Three-Month Return Percentile</th> <th>One-Month Return Percentile</th></tr>\n",
              "<tr><th>A</th><td>-159.830</td> <td>   0.685</td> <td>   0.713</td> <td>   0.517</td> <td>   0.042</td></tr>\n",
              "<tr><th>AAL</th><td> -19.480</td> <td>   0.717</td> <td>   0.147</td> <td>   0.095</td> <td>   0.020</td></tr>\n",
              "<tr><th>AAP</th><td>-240.100</td> <td>   0.703</td> <td>   0.719</td> <td>   0.651</td> <td>   0.729</td></tr>\n",
              "<tr><th>AAPL</th><td>-155.200</td> <td>   0.451</td> <td>   0.608</td> <td>   0.384</td> <td>   0.418</td></tr>\n",
              "<tr><th>ABBV</th><td>-109.100</td> <td>   0.519</td> <td>   0.311</td> <td>   0.141</td> <td>   0.509</td></tr>\n",
              "<tr><th>ABC</th><td>-127.800</td> <td>   0.388</td> <td>   0.388</td> <td>   0.436</td> <td>   0.358</td></tr>\n",
              "<tr><th>ABMD</th><td>-367.570</td> <td>   0.392</td> <td>   0.366</td> <td>   0.657</td> <td>   0.414</td></tr>\n",
              "<tr><th>ABT</th><td>-131.240</td> <td>   0.313</td> <td>   0.432</td> <td>   0.564</td> <td>   0.485</td></tr>\n",
              "<tr><th>ACN</th><td>-358.580</td> <td>   0.749</td> <td>   0.832</td> <td>   0.790</td> <td>   0.675</td></tr>\n",
              "<tr><th>ADBE</th><td>-678.990</td> <td>   0.479</td> <td>   0.873</td> <td>   0.497</td> <td>   0.590</td></tr>\n",
              "</table>\n"
            ],
            "text/plain": [
              "<IPython.core.display.HTML object>"
            ]
          },
          "metadata": {},
          "execution_count": 11
        }
      ]
    },
    {
      "cell_type": "code",
      "metadata": {
        "colab": {
          "base_uri": "https://localhost:8080/",
          "height": 243
        },
        "id": "lgRUK8KmQJ1x",
        "outputId": "7296d588-934a-498d-f492-3d900b8993fd"
      },
      "source": [
        "uav_01=uav.rescale(by_columns=True)\n",
        "uav_01.to_html()"
      ],
      "execution_count": null,
      "outputs": [
        {
          "output_type": "execute_result",
          "data": {
            "text/html": [
              "<table>\n",
              "<tr><th>Option</th><th>Price</th> <th>One-Year Return Percentile</th> <th>Six-Month Return Percentile</th> <th>Three-Month Return Percentile</th> <th>One-Month Return Percentile</th></tr>\n",
              "<tr><th>A</th><td>   0.787</td> <td>   0.855</td> <td>   0.779</td> <td>   0.607</td> <td>   0.031</td></tr>\n",
              "<tr><th>AAL</th><td>   1.000</td> <td>   0.927</td> <td>   0.000</td> <td>   0.000</td> <td>   0.000</td></tr>\n",
              "<tr><th>AAP</th><td>   0.665</td> <td>   0.895</td> <td>   0.787</td> <td>   0.801</td> <td>   1.000</td></tr>\n",
              "<tr><th>AAPL</th><td>   0.794</td> <td>   0.318</td> <td>   0.635</td> <td>   0.416</td> <td>   0.561</td></tr>\n",
              "<tr><th>ABBV</th><td>   0.864</td> <td>   0.473</td> <td>   0.226</td> <td>   0.066</td> <td>   0.690</td></tr>\n",
              "<tr><th>ABC</th><td>   0.836</td> <td>   0.173</td> <td>   0.332</td> <td>   0.490</td> <td>   0.478</td></tr>\n",
              "<tr><th>ABMD</th><td>   0.472</td> <td>   0.182</td> <td>   0.302</td> <td>   0.809</td> <td>   0.556</td></tr>\n",
              "<tr><th>ABT</th><td>   0.831</td> <td>   0.000</td> <td>   0.392</td> <td>   0.675</td> <td>   0.656</td></tr>\n",
              "<tr><th>ACN</th><td>   0.486</td> <td>   1.000</td> <td>   0.943</td> <td>   1.000</td> <td>   0.925</td></tr>\n",
              "<tr><th>ADBE</th><td>   0.000</td> <td>   0.382</td> <td>   1.000</td> <td>   0.578</td> <td>   0.804</td></tr>\n",
              "</table>\n"
            ],
            "text/plain": [
              "<IPython.core.display.HTML object>"
            ]
          },
          "metadata": {},
          "execution_count": 13
        }
      ]
    },
    {
      "cell_type": "code",
      "metadata": {
        "colab": {
          "base_uri": "https://localhost:8080/",
          "height": 298
        },
        "id": "sqE1OT5zQO8v",
        "outputId": "570ee072-16b3-4567-a725-31b1fa6f4e61"
      },
      "source": [
        "plt.figure(figsize=(50, 50))\n",
        "ax = uav_01.plot(show=False)\n",
        "xt=ax.set_xticklabels(tickerval,{'fontsize':9, }, rotation=45, ha='right')"
      ],
      "execution_count": null,
      "outputs": [
        {
          "output_type": "display_data",
          "data": {
            "text/plain": [
              "<Figure size 3600x3600 with 0 Axes>"
            ]
          },
          "metadata": {}
        },
        {
          "output_type": "display_data",
          "data": {
            "image/png": "[encoded data removed]",
            "text/plain": [
              "<Figure size 432x288 with 1 Axes>"
            ]
          },
          "metadata": {
            "needs_background": "light"
          }
        }
      ]
    },
    {
      "cell_type": "code",
      "metadata": {
        "colab": {
          "base_uri": "https://localhost:8080/"
        },
        "id": "wT-nihABdzLx",
        "outputId": "dd81479f-5f66-4f40-b5b4-5bf875bdbdfa"
      },
      "source": [
        "default_weight = 1.0/len(uav.criteria())\n",
        "weights_vector = {}\n",
        "for i in range(len(uav.criteria())):\n",
        "  for col in columns:\n",
        "    weights_vector[col] = default_weight\n",
        " \n",
        "weights_vector\n",
        "#weight_vector={' + ',\\n'.join([\"\\'{}\\': {}\".format(cri,default_weight) for cri in uav.criteria()]) + '}"
      ],
      "execution_count": null,
      "outputs": [
        {
          "output_type": "execute_result",
          "data": {
            "text/plain": [
              "{'One-Month Return Percentile': 0.2,\n",
              " 'One-Year Return Percentile': 0.2,\n",
              " 'Price': 0.2,\n",
              " 'Six-Month Return Percentile': 0.2,\n",
              " 'Three-Month Return Percentile': 0.2}"
            ]
          },
          "metadata": {},
          "execution_count": 15
        }
      ]
    },
    {
      "cell_type": "code",
      "metadata": {
        "colab": {
          "base_uri": "https://localhost:8080/",
          "height": 243
        },
        "id": "FUGzfXUehtSO",
        "outputId": "e9e72d18-24dd-46e6-d9c3-4818e9a06693"
      },
      "source": [
        "uav_01.weight_criteria('Intuition',weights_vector)\n",
        "uav_01.select_criteria(['Intuition']).to_html()"
      ],
      "execution_count": null,
      "outputs": [
        {
          "output_type": "execute_result",
          "data": {
            "text/html": [
              "<table>\n",
              "<tr><th>Option</th><th>Intuition</th></tr>\n",
              "<tr><th>A</th><td>   0.612</td></tr>\n",
              "<tr><th>AAL</th><td>   0.385</td></tr>\n",
              "<tr><th>AAP</th><td>   0.830</td></tr>\n",
              "<tr><th>AAPL</th><td>   0.545</td></tr>\n",
              "<tr><th>ABBV</th><td>   0.464</td></tr>\n",
              "<tr><th>ABC</th><td>   0.462</td></tr>\n",
              "<tr><th>ABMD</th><td>   0.464</td></tr>\n",
              "<tr><th>ABT</th><td>   0.511</td></tr>\n",
              "<tr><th>ACN</th><td>   0.871</td></tr>\n",
              "<tr><th>ADBE</th><td>   0.553</td></tr>\n",
              "</table>\n"
            ],
            "text/plain": [
              "<IPython.core.display.HTML object>"
            ]
          },
          "metadata": {},
          "execution_count": 16
        }
      ]
    },
    {
      "cell_type": "code",
      "metadata": {
        "colab": {
          "base_uri": "https://localhost:8080/"
        },
        "id": "rHS6yQBqUet6",
        "outputId": "fb077b3a-93a5-43c5-cf24-34c72a3f51b9"
      },
      "source": [
        "uav_01"
      ],
      "execution_count": null,
      "outputs": [
        {
          "output_type": "execute_result",
          "data": {
            "text/plain": [
              "Option   :    Price : One-Year : Six-Mont : Three-Mo : One-Mont : Intuitio\n",
              "======== : ======== : ======== : ======== : ======== : ======== : ========\n",
              "A        :    0.787 :    0.855 :    0.779 :    0.607 :    0.031 :    0.612\n",
              "AAL      :    1.000 :    0.927 :    0.000 :    0.000 :    0.000 :    0.385\n",
              "AAP      :    0.665 :    0.895 :    0.787 :    0.801 :    1.000 :    0.830\n",
              "AAPL     :    0.794 :    0.318 :    0.635 :    0.416 :    0.561 :    0.545\n",
              "ABBV     :    0.864 :    0.473 :    0.226 :    0.066 :    0.690 :    0.464\n",
              "ABC      :    0.836 :    0.173 :    0.332 :    0.490 :    0.478 :    0.462\n",
              "ABMD     :    0.472 :    0.182 :    0.302 :    0.809 :    0.556 :    0.464\n",
              "ABT      :    0.831 :    0.000 :    0.392 :    0.675 :    0.656 :    0.511\n",
              "ACN      :    0.486 :    1.000 :    0.943 :    1.000 :    0.925 :    0.871\n",
              "ADBE     :    0.000 :    0.382 :    1.000 :    0.578 :    0.804 :    0.553\n",
              "======== : ======== : ======== : ======== : ======== : ======== : ========"
            ]
          },
          "metadata": {},
          "execution_count": 17
        }
      ]
    },
    {
      "cell_type": "code",
      "metadata": {
        "colab": {
          "base_uri": "https://localhost:8080/",
          "height": 316
        },
        "id": "UG-bFSEsjdxz",
        "outputId": "89090b97-c285-4b6c-f2c9-6d58d2c0f2ef"
      },
      "source": [
        "score_list = ['Intuition']\n",
        "\n",
        "def tot_score(opt):\n",
        "    return sum([uav_01.get_score(opt,cri) for cri in score_list])\n",
        "\n",
        "sorted_opts = sorted(tickerval,key=tot_score,reverse=True)\n",
        "print('Ranked order: ', sorted_opts)\n",
        "num_to_plot = 10 # max is ten\n",
        "ax=uav_01.select_options(sorted_opts[0:num_to_plot]).select_criteria(score_list).plot(show=False)\n",
        "ax.set_xticklabels(sorted_opts[0:num_to_plot],{'fontsize':9, }, rotation=45, ha='right')\n",
        "ax.legend(loc='lower right')"
      ],
      "execution_count": null,
      "outputs": [
        {
          "output_type": "stream",
          "name": "stdout",
          "text": [
            "Ranked order:  ['ACN', 'AAP', 'A', 'ADBE', 'AAPL', 'ABT', 'ABMD', 'ABBV', 'ABC', 'AAL']\n"
          ]
        },
        {
          "output_type": "execute_result",
          "data": {
            "text/plain": [
              "<matplotlib.legend.Legend at 0x7fb48c04f090>"
            ]
          },
          "metadata": {},
          "execution_count": 18
        },
        {
          "output_type": "display_data",
          "data": {
            "image/png": "[encoded data removed]",
            "text/plain": [
              "<Figure size 432x288 with 1 Axes>"
            ]
          },
          "metadata": {
            "needs_background": "light"
          }
        }
      ]
    },
    {
      "cell_type": "markdown",
      "metadata": {
        "id": "SFEUNsbu7luD"
      },
      "source": [
        "#RV Score\n"
      ]
    },
    {
      "cell_type": "code",
      "metadata": {
        "id": "d-MXZhFM8GhE"
      },
      "source": [
        "read_file = pd.read_excel (\"value_strategy.xlsx\")"
      ],
      "execution_count": null,
      "outputs": []
    },
    {
      "cell_type": "code",
      "metadata": {
        "id": "ABmuhmv57shH"
      },
      "source": [
        "read_file.to_csv (\"value_strategy.csv\",\n",
        "\t\t\t\tindex = None,\n",
        "\t\t\t\theader=True)\n",
        "\n",
        "df1 = pd.DataFrame(pd.read_csv(\"value_strategy.csv\",nrows=10))\n",
        "y = ['Price-to-Earnings Ratio', 'Price-to-Book Ratio','Price-to-Sales Ratio','EV/EBITDA','EV/GP']\n",
        "df1 = df1.drop(y,axis=1)"
      ],
      "execution_count": null,
      "outputs": []
    },
    {
      "cell_type": "code",
      "metadata": {
        "colab": {
          "base_uri": "https://localhost:8080/",
          "height": 357
        },
        "id": "Go8hbPhc8TOA",
        "outputId": "f7283deb-6383-454c-ac5a-4cda44a28e69"
      },
      "source": [
        "for i in df1.index:\n",
        "  df1.loc[i,'Price'] = df1.loc[i,'Price'] * (-1)\n",
        "df1"
      ],
      "execution_count": null,
      "outputs": [
        {
          "output_type": "execute_result",
          "data": {
            "text/html": [
              "<div>\n",
              "<style scoped>\n",
              "    .dataframe tbody tr th:only-of-type {\n",
              "        vertical-align: middle;\n",
              "    }\n",
              "\n",
              "    .dataframe tbody tr th {\n",
              "        vertical-align: top;\n",
              "    }\n",
              "\n",
              "    .dataframe thead th {\n",
              "        text-align: right;\n",
              "    }\n",
              "</style>\n",
              "<table border=\"1\" class=\"dataframe\">\n",
              "  <thead>\n",
              "    <tr style=\"text-align: right;\">\n",
              "      <th></th>\n",
              "      <th>Ticker</th>\n",
              "      <th>Price</th>\n",
              "      <th>PE Percentile</th>\n",
              "      <th>PB Percentile</th>\n",
              "      <th>PS Percentile</th>\n",
              "      <th>EV/EBITDA Percentile</th>\n",
              "      <th>EV/GP Percentile</th>\n",
              "      <th>RV</th>\n",
              "    </tr>\n",
              "  </thead>\n",
              "  <tbody>\n",
              "    <tr>\n",
              "      <th>0</th>\n",
              "      <td>A</td>\n",
              "      <td>-159.27</td>\n",
              "      <td>0.833663</td>\n",
              "      <td>0.797030</td>\n",
              "      <td>0.811881</td>\n",
              "      <td>0.883168</td>\n",
              "      <td>0.825743</td>\n",
              "      <td>8.302970</td>\n",
              "    </tr>\n",
              "    <tr>\n",
              "      <th>1</th>\n",
              "      <td>AAL</td>\n",
              "      <td>-20.19</td>\n",
              "      <td>0.071287</td>\n",
              "      <td>0.049505</td>\n",
              "      <td>0.035644</td>\n",
              "      <td>0.027723</td>\n",
              "      <td>0.059406</td>\n",
              "      <td>0.487129</td>\n",
              "    </tr>\n",
              "    <tr>\n",
              "      <th>2</th>\n",
              "      <td>AAP</td>\n",
              "      <td>-237.25</td>\n",
              "      <td>0.469307</td>\n",
              "      <td>0.557426</td>\n",
              "      <td>0.173267</td>\n",
              "      <td>0.372277</td>\n",
              "      <td>0.138614</td>\n",
              "      <td>3.421782</td>\n",
              "    </tr>\n",
              "    <tr>\n",
              "      <th>3</th>\n",
              "      <td>AAPL</td>\n",
              "      <td>-155.31</td>\n",
              "      <td>0.600000</td>\n",
              "      <td>0.960396</td>\n",
              "      <td>0.792079</td>\n",
              "      <td>0.742574</td>\n",
              "      <td>0.893069</td>\n",
              "      <td>7.976238</td>\n",
              "    </tr>\n",
              "    <tr>\n",
              "      <th>4</th>\n",
              "      <td>ABBV</td>\n",
              "      <td>-109.70</td>\n",
              "      <td>0.568317</td>\n",
              "      <td>0.885149</td>\n",
              "      <td>0.521782</td>\n",
              "      <td>0.277228</td>\n",
              "      <td>0.463366</td>\n",
              "      <td>5.431683</td>\n",
              "    </tr>\n",
              "    <tr>\n",
              "      <th>5</th>\n",
              "      <td>ABC</td>\n",
              "      <td>-128.50</td>\n",
              "      <td>0.063366</td>\n",
              "      <td>1.000000</td>\n",
              "      <td>0.005941</td>\n",
              "      <td>0.239604</td>\n",
              "      <td>0.259406</td>\n",
              "      <td>3.136634</td>\n",
              "    </tr>\n",
              "    <tr>\n",
              "      <th>6</th>\n",
              "      <td>ABMD</td>\n",
              "      <td>-360.06</td>\n",
              "      <td>0.960396</td>\n",
              "      <td>0.849505</td>\n",
              "      <td>0.960396</td>\n",
              "      <td>0.954455</td>\n",
              "      <td>0.920792</td>\n",
              "      <td>9.291089</td>\n",
              "    </tr>\n",
              "    <tr>\n",
              "      <th>7</th>\n",
              "      <td>ABT</td>\n",
              "      <td>-132.25</td>\n",
              "      <td>0.691089</td>\n",
              "      <td>0.722772</td>\n",
              "      <td>0.685149</td>\n",
              "      <td>0.770297</td>\n",
              "      <td>0.679208</td>\n",
              "      <td>7.097030</td>\n",
              "    </tr>\n",
              "    <tr>\n",
              "      <th>8</th>\n",
              "      <td>ACN</td>\n",
              "      <td>-360.66</td>\n",
              "      <td>0.751485</td>\n",
              "      <td>0.837624</td>\n",
              "      <td>0.629703</td>\n",
              "      <td>0.734653</td>\n",
              "      <td>0.784158</td>\n",
              "      <td>7.475248</td>\n",
              "    </tr>\n",
              "    <tr>\n",
              "      <th>9</th>\n",
              "      <td>ADBE</td>\n",
              "      <td>-664.82</td>\n",
              "      <td>0.857426</td>\n",
              "      <td>0.930693</td>\n",
              "      <td>0.974257</td>\n",
              "      <td>0.950495</td>\n",
              "      <td>0.958416</td>\n",
              "      <td>9.342574</td>\n",
              "    </tr>\n",
              "  </tbody>\n",
              "</table>\n",
              "</div>"
            ],
            "text/plain": [
              "  Ticker   Price  ...  EV/GP Percentile        RV\n",
              "0      A -159.27  ...          0.825743  8.302970\n",
              "1    AAL  -20.19  ...          0.059406  0.487129\n",
              "2    AAP -237.25  ...          0.138614  3.421782\n",
              "3   AAPL -155.31  ...          0.893069  7.976238\n",
              "4   ABBV -109.70  ...          0.463366  5.431683\n",
              "5    ABC -128.50  ...          0.259406  3.136634\n",
              "6   ABMD -360.06  ...          0.920792  9.291089\n",
              "7    ABT -132.25  ...          0.679208  7.097030\n",
              "8    ACN -360.66  ...          0.784158  7.475248\n",
              "9   ADBE -664.82  ...          0.958416  9.342574\n",
              "\n",
              "[10 rows x 8 columns]"
            ]
          },
          "metadata": {},
          "execution_count": 6
        }
      ]
    },
    {
      "cell_type": "code",
      "metadata": {
        "id": "oJLhIaIC_LVA",
        "colab": {
          "base_uri": "https://localhost:8080/"
        },
        "outputId": "ab039cf3-6667-48e3-e168-45af5884ab44"
      },
      "source": [
        "tickerval = df1['Ticker'].tolist()\n",
        "tickerval"
      ],
      "execution_count": null,
      "outputs": [
        {
          "output_type": "execute_result",
          "data": {
            "text/plain": [
              "['A', 'AAL', 'AAP', 'AAPL', 'ABBV', 'ABC', 'ABMD', 'ABT', 'ACN', 'ADBE']"
            ]
          },
          "metadata": {},
          "execution_count": 7
        }
      ]
    },
    {
      "cell_type": "code",
      "metadata": {
        "colab": {
          "base_uri": "https://localhost:8080/",
          "height": 243
        },
        "id": "eNaHAhIOvALt",
        "outputId": "c4321bb3-c62a-40bc-b63b-09d57ffd2bfe"
      },
      "source": [
        "uav = Mcdm(tickerval)\n",
        "uav.to_html()"
      ],
      "execution_count": null,
      "outputs": [
        {
          "output_type": "execute_result",
          "data": {
            "text/html": [
              "<table>\n",
              "<tr><th>Option</th></tr>\n",
              "<tr><th>A</th></tr>\n",
              "<tr><th>AAL</th></tr>\n",
              "<tr><th>AAP</th></tr>\n",
              "<tr><th>AAPL</th></tr>\n",
              "<tr><th>ABBV</th></tr>\n",
              "<tr><th>ABC</th></tr>\n",
              "<tr><th>ABMD</th></tr>\n",
              "<tr><th>ABT</th></tr>\n",
              "<tr><th>ACN</th></tr>\n",
              "<tr><th>ADBE</th></tr>\n",
              "</table>\n"
            ],
            "text/plain": [
              "<IPython.core.display.HTML object>"
            ]
          },
          "metadata": {},
          "execution_count": 8
        }
      ]
    },
    {
      "cell_type": "code",
      "metadata": {
        "colab": {
          "base_uri": "https://localhost:8080/"
        },
        "id": "A-9csVX9vD18",
        "outputId": "1653130b-3f77-4c6d-c93f-da5c413bf824"
      },
      "source": [
        "columns = list(df1.columns.values)\n",
        "columns.pop(0)\n",
        "columns.pop()\n",
        "columns"
      ],
      "execution_count": null,
      "outputs": [
        {
          "output_type": "execute_result",
          "data": {
            "text/plain": [
              "['Price',\n",
              " 'PE Percentile',\n",
              " 'PB Percentile',\n",
              " 'PS Percentile',\n",
              " 'EV/EBITDA Percentile',\n",
              " 'EV/GP Percentile']"
            ]
          },
          "metadata": {},
          "execution_count": 10
        }
      ]
    },
    {
      "cell_type": "code",
      "metadata": {
        "colab": {
          "base_uri": "https://localhost:8080/",
          "height": 243
        },
        "id": "HqR9GTodvK9W",
        "outputId": "b32a5813-9b5f-4225-855c-c153acd22c6f"
      },
      "source": [
        "for tick in range(len(tickerval)):\n",
        "  for col in columns:\n",
        "    uav.set_score(df1.loc[tick, 'Ticker'],col, df1.loc[tick, col])\n",
        "uav.to_html()\n"
      ],
      "execution_count": null,
      "outputs": [
        {
          "output_type": "execute_result",
          "data": {
            "text/html": [
              "<table>\n",
              "<tr><th>Option</th><th>Price</th> <th>PE Percentile</th> <th>PB Percentile</th> <th>PS Percentile</th> <th>EV/EBITDA Percentile</th> <th>EV/GP Percentile</th></tr>\n",
              "<tr><th>A</th><td>-159.270</td> <td>   0.834</td> <td>   0.797</td> <td>   0.812</td> <td>   0.883</td> <td>   0.826</td></tr>\n",
              "<tr><th>AAL</th><td> -20.190</td> <td>   0.071</td> <td>   0.050</td> <td>   0.036</td> <td>   0.028</td> <td>   0.059</td></tr>\n",
              "<tr><th>AAP</th><td>-237.250</td> <td>   0.469</td> <td>   0.557</td> <td>   0.173</td> <td>   0.372</td> <td>   0.139</td></tr>\n",
              "<tr><th>AAPL</th><td>-155.310</td> <td>   0.600</td> <td>   0.960</td> <td>   0.792</td> <td>   0.743</td> <td>   0.893</td></tr>\n",
              "<tr><th>ABBV</th><td>-109.700</td> <td>   0.568</td> <td>   0.885</td> <td>   0.522</td> <td>   0.277</td> <td>   0.463</td></tr>\n",
              "<tr><th>ABC</th><td>-128.500</td> <td>   0.063</td> <td>   1.000</td> <td>   0.006</td> <td>   0.240</td> <td>   0.259</td></tr>\n",
              "<tr><th>ABMD</th><td>-360.060</td> <td>   0.960</td> <td>   0.850</td> <td>   0.960</td> <td>   0.954</td> <td>   0.921</td></tr>\n",
              "<tr><th>ABT</th><td>-132.250</td> <td>   0.691</td> <td>   0.723</td> <td>   0.685</td> <td>   0.770</td> <td>   0.679</td></tr>\n",
              "<tr><th>ACN</th><td>-360.660</td> <td>   0.751</td> <td>   0.838</td> <td>   0.630</td> <td>   0.735</td> <td>   0.784</td></tr>\n",
              "<tr><th>ADBE</th><td>-664.820</td> <td>   0.857</td> <td>   0.931</td> <td>   0.974</td> <td>   0.950</td> <td>   0.958</td></tr>\n",
              "</table>\n"
            ],
            "text/plain": [
              "<IPython.core.display.HTML object>"
            ]
          },
          "metadata": {},
          "execution_count": 12
        }
      ]
    },
    {
      "cell_type": "code",
      "metadata": {
        "colab": {
          "base_uri": "https://localhost:8080/",
          "height": 282
        },
        "id": "ED_i347rvQl7",
        "outputId": "bf2c6c50-858e-4f33-ba5d-d0e9aec2aa01"
      },
      "source": [
        "uav.plot()"
      ],
      "execution_count": null,
      "outputs": [
        {
          "output_type": "display_data",
          "data": {
            "image/png": "[encoded data removed]",
            "text/plain": [
              "<Figure size 432x288 with 1 Axes>"
            ]
          },
          "metadata": {
            "needs_background": "light"
          }
        },
        {
          "output_type": "execute_result",
          "data": {
            "text/plain": [
              "<matplotlib.axes._subplots.AxesSubplot at 0x7ff596c27710>"
            ]
          },
          "metadata": {},
          "execution_count": 13
        }
      ]
    },
    {
      "cell_type": "code",
      "metadata": {
        "colab": {
          "base_uri": "https://localhost:8080/",
          "height": 243
        },
        "id": "fHvOQw-bvXVx",
        "outputId": "f6bb1379-fa08-4172-f0b4-370835f66ac4"
      },
      "source": [
        "uav_01=uav.rescale(by_columns=True)\n",
        "uav_01.to_html()"
      ],
      "execution_count": null,
      "outputs": [
        {
          "output_type": "execute_result",
          "data": {
            "text/html": [
              "<table>\n",
              "<tr><th>Option</th><th>Price</th> <th>PE Percentile</th> <th>PB Percentile</th> <th>PS Percentile</th> <th>EV/EBITDA Percentile</th> <th>EV/GP Percentile</th></tr>\n",
              "<tr><th>A</th><td>   0.784</td> <td>   0.859</td> <td>   0.786</td> <td>   0.832</td> <td>   0.923</td> <td>   0.852</td></tr>\n",
              "<tr><th>AAL</th><td>   1.000</td> <td>   0.009</td> <td>   0.000</td> <td>   0.031</td> <td>   0.000</td> <td>   0.000</td></tr>\n",
              "<tr><th>AAP</th><td>   0.663</td> <td>   0.453</td> <td>   0.534</td> <td>   0.173</td> <td>   0.372</td> <td>   0.088</td></tr>\n",
              "<tr><th>AAPL</th><td>   0.790</td> <td>   0.598</td> <td>   0.958</td> <td>   0.812</td> <td>   0.771</td> <td>   0.927</td></tr>\n",
              "<tr><th>ABBV</th><td>   0.861</td> <td>   0.563</td> <td>   0.879</td> <td>   0.533</td> <td>   0.269</td> <td>   0.449</td></tr>\n",
              "<tr><th>ABC</th><td>   0.832</td> <td>   0.000</td> <td>   1.000</td> <td>   0.000</td> <td>   0.229</td> <td>   0.222</td></tr>\n",
              "<tr><th>ABMD</th><td>   0.473</td> <td>   1.000</td> <td>   0.842</td> <td>   0.986</td> <td>   1.000</td> <td>   0.958</td></tr>\n",
              "<tr><th>ABT</th><td>   0.826</td> <td>   0.700</td> <td>   0.708</td> <td>   0.701</td> <td>   0.801</td> <td>   0.689</td></tr>\n",
              "<tr><th>ACN</th><td>   0.472</td> <td>   0.767</td> <td>   0.829</td> <td>   0.644</td> <td>   0.763</td> <td>   0.806</td></tr>\n",
              "<tr><th>ADBE</th><td>   0.000</td> <td>   0.885</td> <td>   0.927</td> <td>   1.000</td> <td>   0.996</td> <td>   1.000</td></tr>\n",
              "</table>\n"
            ],
            "text/plain": [
              "<IPython.core.display.HTML object>"
            ]
          },
          "metadata": {},
          "execution_count": 14
        }
      ]
    },
    {
      "cell_type": "code",
      "metadata": {
        "colab": {
          "base_uri": "https://localhost:8080/",
          "height": 298
        },
        "id": "XhSsKhqPvd3R",
        "outputId": "7903eadb-9f1d-4d08-8dfb-fd35aff529e9"
      },
      "source": [
        "plt.figure(figsize=(50, 50))\n",
        "ax = uav_01.plot(show=False)\n",
        "xt=ax.set_xticklabels(tickerval,{'fontsize':9, }, rotation=45, ha='right')"
      ],
      "execution_count": null,
      "outputs": [
        {
          "output_type": "display_data",
          "data": {
            "text/plain": [
              "<Figure size 3600x3600 with 0 Axes>"
            ]
          },
          "metadata": {}
        },
        {
          "output_type": "display_data",
          "data": {
            "image/png": "[encoded data removed]",
            "text/plain": [
              "<Figure size 432x288 with 1 Axes>"
            ]
          },
          "metadata": {
            "needs_background": "light"
          }
        }
      ]
    },
    {
      "cell_type": "code",
      "metadata": {
        "colab": {
          "base_uri": "https://localhost:8080/"
        },
        "id": "9G9pcRRivhiw",
        "outputId": "67449dc3-717f-41df-c69e-cf87a12e091f"
      },
      "source": [
        "default_weight = 1.0/len(uav.criteria())\n",
        "weights_vector = {}\n",
        "for i in range(len(uav.criteria())):\n",
        "  for col in columns:\n",
        "    weights_vector[col] = default_weight\n",
        " \n",
        "weights_vector\n",
        "#weight_vector={' + ',\\n'.join([\"\\'{}\\': {}\".format(cri,default_weight) for cri in uav.criteria()]) + '}"
      ],
      "execution_count": null,
      "outputs": [
        {
          "output_type": "execute_result",
          "data": {
            "text/plain": [
              "{'EV/EBITDA Percentile': 0.16666666666666666,\n",
              " 'EV/GP Percentile': 0.16666666666666666,\n",
              " 'PB Percentile': 0.16666666666666666,\n",
              " 'PE Percentile': 0.16666666666666666,\n",
              " 'PS Percentile': 0.16666666666666666,\n",
              " 'Price': 0.16666666666666666}"
            ]
          },
          "metadata": {},
          "execution_count": 16
        }
      ]
    },
    {
      "cell_type": "code",
      "metadata": {
        "colab": {
          "base_uri": "https://localhost:8080/",
          "height": 243
        },
        "id": "lw2Neokqvo_D",
        "outputId": "04af3b80-0939-4142-b80d-def9ba264e21"
      },
      "source": [
        "uav_01.weight_criteria('Intuition',weights_vector)\n",
        "uav_01.select_criteria(['Intuition']).to_html()"
      ],
      "execution_count": null,
      "outputs": [
        {
          "output_type": "execute_result",
          "data": {
            "text/html": [
              "<table>\n",
              "<tr><th>Option</th><th>Intuition</th></tr>\n",
              "<tr><th>A</th><td>   0.840</td></tr>\n",
              "<tr><th>AAL</th><td>   0.173</td></tr>\n",
              "<tr><th>AAP</th><td>   0.380</td></tr>\n",
              "<tr><th>AAPL</th><td>   0.810</td></tr>\n",
              "<tr><th>ABBV</th><td>   0.592</td></tr>\n",
              "<tr><th>ABC</th><td>   0.381</td></tr>\n",
              "<tr><th>ABMD</th><td>   0.876</td></tr>\n",
              "<tr><th>ABT</th><td>   0.738</td></tr>\n",
              "<tr><th>ACN</th><td>   0.714</td></tr>\n",
              "<tr><th>ADBE</th><td>   0.801</td></tr>\n",
              "</table>\n"
            ],
            "text/plain": [
              "<IPython.core.display.HTML object>"
            ]
          },
          "metadata": {},
          "execution_count": 17
        }
      ]
    },
    {
      "cell_type": "code",
      "metadata": {
        "colab": {
          "base_uri": "https://localhost:8080/"
        },
        "id": "1Z2ubejzvu7z",
        "outputId": "6731c966-a4e9-4e52-bf64-26a8dbeef59b"
      },
      "source": [
        "uav_01"
      ],
      "execution_count": null,
      "outputs": [
        {
          "output_type": "execute_result",
          "data": {
            "text/plain": [
              "Option   :    Price : PE Perce : PB Perce : PS Perce : EV/EBITD : EV/GP Pe : Intuitio\n",
              "======== : ======== : ======== : ======== : ======== : ======== : ======== : ========\n",
              "A        :    0.784 :    0.859 :    0.786 :    0.832 :    0.923 :    0.852 :    0.840\n",
              "AAL      :    1.000 :    0.009 :    0.000 :    0.031 :    0.000 :    0.000 :    0.173\n",
              "AAP      :    0.663 :    0.453 :    0.534 :    0.173 :    0.372 :    0.088 :    0.380\n",
              "AAPL     :    0.790 :    0.598 :    0.958 :    0.812 :    0.771 :    0.927 :    0.810\n",
              "ABBV     :    0.861 :    0.563 :    0.879 :    0.533 :    0.269 :    0.449 :    0.592\n",
              "ABC      :    0.832 :    0.000 :    1.000 :    0.000 :    0.229 :    0.222 :    0.381\n",
              "ABMD     :    0.473 :    1.000 :    0.842 :    0.986 :    1.000 :    0.958 :    0.876\n",
              "ABT      :    0.826 :    0.700 :    0.708 :    0.701 :    0.801 :    0.689 :    0.738\n",
              "ACN      :    0.472 :    0.767 :    0.829 :    0.644 :    0.763 :    0.806 :    0.714\n",
              "ADBE     :    0.000 :    0.885 :    0.927 :    1.000 :    0.996 :    1.000 :    0.801\n",
              "======== : ======== : ======== : ======== : ======== : ======== : ======== : ========"
            ]
          },
          "metadata": {},
          "execution_count": 18
        }
      ]
    },
    {
      "cell_type": "code",
      "metadata": {
        "colab": {
          "base_uri": "https://localhost:8080/",
          "height": 314
        },
        "id": "j3bW7Zkgv1Ah",
        "outputId": "e851b2dd-36d4-484f-8179-4aa5c1e88c49"
      },
      "source": [
        "score_list = ['Intuition']\n",
        "\n",
        "def tot_score(opt):\n",
        "    return sum([uav_01.get_score(opt,cri) for cri in score_list])\n",
        "\n",
        "sorted_opts = sorted(tickerval,key=tot_score,reverse=True)\n",
        "print('Ranked order: ', sorted_opts)\n",
        "num_to_plot = 10 # max is ten\n",
        "ax=uav_01.select_options(sorted_opts[0:num_to_plot]).select_criteria(score_list).plot(show=False)\n",
        "ax.set_xticklabels(sorted_opts[0:num_to_plot],{'fontsize':9, }, rotation=45, ha='right')\n",
        "ax.legend(loc='lower right')"
      ],
      "execution_count": null,
      "outputs": [
        {
          "output_type": "stream",
          "name": "stdout",
          "text": [
            "Ranked order:  ['ABMD', 'A', 'AAPL', 'ADBE', 'ABT', 'ACN', 'ABBV', 'ABC', 'AAP', 'AAL']\n"
          ]
        },
        {
          "output_type": "execute_result",
          "data": {
            "text/plain": [
              "<matplotlib.legend.Legend at 0x7ff5969088d0>"
            ]
          },
          "metadata": {},
          "execution_count": 19
        },
        {
          "output_type": "display_data",
          "data": {
            "image/png": "[encoded data removed]",
            "text/plain": [
              "<Figure size 432x288 with 1 Axes>"
            ]
          },
          "metadata": {
            "needs_background": "light"
          }
        }
      ]
    }
  ]
}