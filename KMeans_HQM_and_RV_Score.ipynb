{
  "nbformat": 4,
  "nbformat_minor": 0,
  "metadata": {
    "colab": {
      "name": "KMeans HQM and RV Score.ipynb",
      "provenance": [],
      "collapsed_sections": []
    },
    "kernelspec": {
      "name": "python3",
      "display_name": "Python 3"
    },
    "language_info": {
      "name": "python"
    }
  },
  "cells": [
    {
      "cell_type": "markdown",
      "metadata": {
        "id": "YJNoOj-65vPA"
      },
      "source": [
        "We use the following python libraries-"
      ]
    },
    {
      "cell_type": "code",
      "metadata": {
        "id": "ekPHiUT5swKL"
      },
      "source": [
        "from sklearn.cluster import KMeans\n",
        "import pandas as pd\n",
        "from sklearn.preprocessing import MinMaxScaler\n",
        "from matplotlib import pyplot as plt\n",
        "\n",
        "import io\n"
      ],
      "execution_count": null,
      "outputs": []
    },
    {
      "cell_type": "markdown",
      "metadata": {
        "id": "gT2E9pefuh5W"
      },
      "source": [
        "KMeans library to make cluster, pandas library to read the csv file, MinMaxScaler to convert our data values to fit in [0,1], and pyplot to plot our graph"
      ]
    },
    {
      "cell_type": "markdown",
      "metadata": {
        "id": "5Z6sxKhQ1YcU"
      },
      "source": [
        "#Momentum Based Strategy"
      ]
    },
    {
      "cell_type": "code",
      "metadata": {
        "id": "XmIzLDRpvlsB"
      },
      "source": [
        "read_file = pd.read_excel (\"momentum_strategy.xlsx\")\n"
      ],
      "execution_count": null,
      "outputs": []
    },
    {
      "cell_type": "code",
      "metadata": {
        "id": "26Za023PyGEI"
      },
      "source": [
        "read_file.to_csv (\"momentum_strategy.csv\",\n",
        "\t\t\t\tindex = None,\n",
        "\t\t\t\theader=True)\n",
        "\n",
        "df = pd.DataFrame(pd.read_csv(\"momentum_strategy.csv\"))\n"
      ],
      "execution_count": null,
      "outputs": []
    },
    {
      "cell_type": "markdown",
      "metadata": {
        "id": "wkvqsuOFu9Wx"
      },
      "source": [
        "From this dataset we select age and income to be our main attributes and we plot a graph using plt.scatter"
      ]
    },
    {
      "cell_type": "code",
      "metadata": {
        "colab": {
          "base_uri": "https://localhost:8080/",
          "height": 297
        },
        "id": "lEcGzq1UypEM",
        "outputId": "4bf46988-dd0f-44c0-8307-d42adcd84c97"
      },
      "source": [
        "plt.scatter(df['HQM'],df['Price'])\n",
        "plt.xlabel('HQM')\n",
        "plt.ylabel('Price')"
      ],
      "execution_count": null,
      "outputs": [
        {
          "output_type": "execute_result",
          "data": {
            "text/plain": [
              "Text(0, 0.5, 'Price')"
            ]
          },
          "metadata": {},
          "execution_count": 4
        },
        {
          "output_type": "display_data",
          "data": {
            "image/png": "[encoded data removed]",
            "text/plain": [
              "<Figure size 432x288 with 1 Axes>"
            ]
          },
          "metadata": {
            "needs_background": "light"
          }
        }
      ]
    },
    {
      "cell_type": "markdown",
      "metadata": {
        "id": "LxD03W3JvCwr"
      },
      "source": [
        "we divide our dataset into 3 clusters and give each tuple a value in range [0,2]"
      ]
    },
    {
      "cell_type": "code",
      "metadata": {
        "colab": {
          "base_uri": "https://localhost:8080/"
        },
        "id": "dIqrPRDNy-jb",
        "outputId": "f0e5390c-bba7-4b57-f13e-d826cbef24fe"
      },
      "source": [
        "km = KMeans(n_clusters=2)\n",
        "y_predicted = km.fit_predict(df[['HQM','Price']])\n",
        "y_predicted"
      ],
      "execution_count": null,
      "outputs": [
        {
          "output_type": "execute_result",
          "data": {
            "text/plain": [
              "array([0, 0, 0, 0, 0, 0, 0, 0, 0, 0, 0, 0, 0, 0, 0, 0, 0, 0, 0, 0, 0, 0,\n",
              "       0, 0, 0, 0, 0, 0, 0, 0, 0, 0, 0, 0, 0, 0, 1, 0, 0, 0, 0, 0, 0, 0,\n",
              "       0, 0, 0, 0, 0, 0, 0, 0, 0, 0, 1, 0, 0, 0, 0, 0, 0, 0, 0, 0, 0, 1,\n",
              "       0, 0, 0, 0, 0, 0, 0, 0, 0, 0, 0, 0, 0, 0, 0, 0, 0, 0, 0, 0, 0, 0,\n",
              "       0, 0, 0, 0, 0, 0, 0, 0, 0, 0, 0, 0, 0, 1, 0, 0, 0, 0, 0, 0, 0, 0,\n",
              "       0, 0, 0, 0, 0, 0, 0, 0, 0, 0, 0, 0, 0, 0, 0, 0, 0, 0, 0, 0, 0, 0,\n",
              "       0, 0, 0, 0, 0, 0, 0, 0, 0, 0, 0, 0, 0, 0, 0, 0, 0, 0, 0, 0, 0, 0,\n",
              "       0, 0, 0, 0, 0, 0, 0, 0, 0, 0, 0, 0, 0, 0, 0, 0, 0, 0, 0, 0, 0, 0,\n",
              "       0, 0, 0, 0, 0, 0, 0, 0, 0, 0, 0, 0, 0, 0, 0, 0, 0, 0, 0, 0, 0, 0,\n",
              "       0, 0, 0, 0, 0, 0, 1, 1, 0, 0, 0, 0, 0, 0, 0, 0, 0, 0, 0, 0, 0, 0,\n",
              "       0, 0, 0, 0, 0, 0, 0, 0, 0, 0, 0, 0, 0, 0, 0, 0, 0, 0, 0, 0, 0, 0,\n",
              "       0, 0, 0, 0, 0, 0, 0, 0, 0, 0, 0, 0, 0, 0, 0, 0, 0, 0, 0, 0, 0, 0,\n",
              "       0, 0, 0, 0, 0, 0, 0, 0, 0, 0, 0, 0, 0, 0, 0, 0, 0, 0, 0, 0, 0, 0,\n",
              "       0, 0, 0, 0, 0, 0, 0, 0, 0, 0, 0, 0, 0, 0, 0, 0, 0, 0, 0, 0, 0, 0,\n",
              "       0, 0, 0, 0, 0, 0, 0, 0, 0, 0, 0, 0, 0, 0, 0, 0, 0, 0, 0, 0, 0, 0,\n",
              "       0, 0, 0, 0, 0, 0, 0, 0, 0, 0, 0, 0, 0, 0, 0, 0, 1, 0, 0, 0, 0, 0,\n",
              "       0, 0, 0, 0, 0, 0, 0, 0, 0, 0, 0, 0, 0, 0, 0, 0, 0, 0, 0, 0, 0, 0,\n",
              "       0, 0, 0, 0, 0, 0, 0, 0, 0, 0, 0, 0, 0, 0, 0, 0, 0, 0, 0, 0, 0, 0,\n",
              "       0, 0, 0, 0, 0, 0, 0, 0, 0, 0, 0, 0, 0, 0, 0, 0, 0, 0, 0, 0, 0, 0,\n",
              "       0, 0, 0, 0, 0, 0, 0, 0, 0, 0, 0, 0, 0, 0, 0, 0, 0, 0, 0, 0, 0, 0,\n",
              "       0, 0, 0, 0, 0, 0, 0, 0, 0, 0, 0, 0, 0, 0, 0, 0, 0, 0, 0, 0, 0, 0,\n",
              "       0, 0, 0, 0, 0, 0, 0, 0, 0, 0, 0, 0, 0, 0, 0, 0, 0, 0, 0, 0, 0, 0,\n",
              "       0, 0, 0, 0, 0, 0, 0, 0, 0, 0, 0, 0, 0, 0, 0, 0, 0, 0, 0, 0, 0],\n",
              "      dtype=int32)"
            ]
          },
          "metadata": {},
          "execution_count": 5
        }
      ]
    },
    {
      "cell_type": "code",
      "metadata": {
        "colab": {
          "base_uri": "https://localhost:8080/",
          "height": 254
        },
        "id": "s-l6epfZzap4",
        "outputId": "42b6c07a-2056-486f-e404-b1c52b7ac33e"
      },
      "source": [
        "df['cluster']=y_predicted\n",
        "df.head()"
      ],
      "execution_count": null,
      "outputs": [
        {
          "output_type": "execute_result",
          "data": {
            "text/html": [
              "<div>\n",
              "<style scoped>\n",
              "    .dataframe tbody tr th:only-of-type {\n",
              "        vertical-align: middle;\n",
              "    }\n",
              "\n",
              "    .dataframe tbody tr th {\n",
              "        vertical-align: top;\n",
              "    }\n",
              "\n",
              "    .dataframe thead th {\n",
              "        text-align: right;\n",
              "    }\n",
              "</style>\n",
              "<table border=\"1\" class=\"dataframe\">\n",
              "  <thead>\n",
              "    <tr style=\"text-align: right;\">\n",
              "      <th></th>\n",
              "      <th>Ticker</th>\n",
              "      <th>Price</th>\n",
              "      <th>One-Year Price Return</th>\n",
              "      <th>One-Year Return Percentile</th>\n",
              "      <th>Six-Month Price Return</th>\n",
              "      <th>Six-Month Return Percentile</th>\n",
              "      <th>Three-Month Price Return</th>\n",
              "      <th>Three-Month Return Percentile</th>\n",
              "      <th>One-Month Price Return</th>\n",
              "      <th>One-Month Return Percentile</th>\n",
              "      <th>HQM</th>\n",
              "      <th>cluster</th>\n",
              "    </tr>\n",
              "  </thead>\n",
              "  <tbody>\n",
              "    <tr>\n",
              "      <th>0</th>\n",
              "      <td>A</td>\n",
              "      <td>165.86</td>\n",
              "      <td>0.509828</td>\n",
              "      <td>0.675248</td>\n",
              "      <td>0.168673</td>\n",
              "      <td>0.718812</td>\n",
              "      <td>0.041309</td>\n",
              "      <td>0.514851</td>\n",
              "      <td>-0.081519</td>\n",
              "      <td>0.041584</td>\n",
              "      <td>4.876238</td>\n",
              "      <td>0</td>\n",
              "    </tr>\n",
              "    <tr>\n",
              "      <th>1</th>\n",
              "      <td>AAL</td>\n",
              "      <td>19.63</td>\n",
              "      <td>0.536985</td>\n",
              "      <td>0.714851</td>\n",
              "      <td>-0.089110</td>\n",
              "      <td>0.152475</td>\n",
              "      <td>-0.093192</td>\n",
              "      <td>0.099010</td>\n",
              "      <td>-0.101734</td>\n",
              "      <td>0.017822</td>\n",
              "      <td>2.460396</td>\n",
              "      <td>0</td>\n",
              "    </tr>\n",
              "    <tr>\n",
              "      <th>2</th>\n",
              "      <td>AAP</td>\n",
              "      <td>236.41</td>\n",
              "      <td>0.514559</td>\n",
              "      <td>0.687129</td>\n",
              "      <td>0.168286</td>\n",
              "      <td>0.716832</td>\n",
              "      <td>0.077282</td>\n",
              "      <td>0.653465</td>\n",
              "      <td>0.069777</td>\n",
              "      <td>0.724752</td>\n",
              "      <td>6.955446</td>\n",
              "      <td>0</td>\n",
              "    </tr>\n",
              "    <tr>\n",
              "      <th>3</th>\n",
              "      <td>AAPL</td>\n",
              "      <td>154.36</td>\n",
              "      <td>0.314948</td>\n",
              "      <td>0.457426</td>\n",
              "      <td>0.111530</td>\n",
              "      <td>0.600000</td>\n",
              "      <td>0.002118</td>\n",
              "      <td>0.384158</td>\n",
              "      <td>0.012049</td>\n",
              "      <td>0.417822</td>\n",
              "      <td>4.648515</td>\n",
              "      <td>0</td>\n",
              "    </tr>\n",
              "    <tr>\n",
              "      <th>4</th>\n",
              "      <td>ABBV</td>\n",
              "      <td>109.30</td>\n",
              "      <td>0.351069</td>\n",
              "      <td>0.514851</td>\n",
              "      <td>-0.003107</td>\n",
              "      <td>0.310891</td>\n",
              "      <td>-0.073517</td>\n",
              "      <td>0.134653</td>\n",
              "      <td>0.025684</td>\n",
              "      <td>0.506931</td>\n",
              "      <td>3.668317</td>\n",
              "      <td>0</td>\n",
              "    </tr>\n",
              "  </tbody>\n",
              "</table>\n",
              "</div>"
            ],
            "text/plain": [
              "  Ticker   Price  ...       HQM  cluster\n",
              "0      A  165.86  ...  4.876238        0\n",
              "1    AAL   19.63  ...  2.460396        0\n",
              "2    AAP  236.41  ...  6.955446        0\n",
              "3   AAPL  154.36  ...  4.648515        0\n",
              "4   ABBV  109.30  ...  3.668317        0\n",
              "\n",
              "[5 rows x 12 columns]"
            ]
          },
          "metadata": {},
          "execution_count": 6
        }
      ]
    },
    {
      "cell_type": "markdown",
      "metadata": {
        "id": "CtZG9r1p5geP"
      },
      "source": [
        "We use this function to find the centroid of the clusters"
      ]
    },
    {
      "cell_type": "code",
      "metadata": {
        "colab": {
          "base_uri": "https://localhost:8080/"
        },
        "id": "Nda22TmEzk1y",
        "outputId": "f68b182e-77b0-47dd-957b-db94fd6b249d"
      },
      "source": [
        "km.cluster_centers_\n"
      ],
      "execution_count": null,
      "outputs": [
        {
          "output_type": "execute_result",
          "data": {
            "text/plain": [
              "array([[   5.01710804,  165.93865462],\n",
              "       [   4.49717115, 2899.99428571]])"
            ]
          },
          "metadata": {},
          "execution_count": 7
        }
      ]
    },
    {
      "cell_type": "code",
      "metadata": {
        "colab": {
          "base_uri": "https://localhost:8080/",
          "height": 297
        },
        "id": "ym-zHMGGznoR",
        "outputId": "52965c4a-fff1-4782-9558-dfab769eb5b9"
      },
      "source": [
        "df1 = df[df.cluster==0]\n",
        "df2 = df[df.cluster==1]\n",
        "# df3 = df[df.cluster==2]\n",
        "plt.scatter(df1.HQM,df1['Price'],color='green')\n",
        "plt.scatter(df2.HQM,df2['Price'],color='red')\n",
        "# plt.scatter(df3.HQM,df3['Price'],color='black')\n",
        "plt.scatter(km.cluster_centers_[:,0],km.cluster_centers_[:,1],color='purple',marker='*',label='centroid')\n",
        "plt.xlabel('HQM')\n",
        "plt.ylabel('Price')\n",
        "plt.legend()"
      ],
      "execution_count": null,
      "outputs": [
        {
          "output_type": "execute_result",
          "data": {
            "text/plain": [
              "<matplotlib.legend.Legend at 0x7fabfefa01d0>"
            ]
          },
          "metadata": {},
          "execution_count": 8
        },
        {
          "output_type": "display_data",
          "data": {
            "image/png": "[encoded data removed]",
            "text/plain": [
              "<Figure size 432x288 with 1 Axes>"
            ]
          },
          "metadata": {
            "needs_background": "light"
          }
        }
      ]
    },
    {
      "cell_type": "markdown",
      "metadata": {
        "id": "5iFM9jGGve03"
      },
      "source": [
        "As we can see our dataset is divided into 2 clusters but because of the range of our data it is not visualized properly, so we use MiNMaXScaler to fit our data points in a better range."
      ]
    },
    {
      "cell_type": "code",
      "metadata": {
        "id": "3FZdMeG9z8Jb"
      },
      "source": [
        "scaler = MinMaxScaler()\n",
        "\n",
        "scaler.fit(df[['HQM']])\n",
        "df['HQM'] = scaler.transform(df[['HQM']])\n",
        "\n",
        "scaler.fit(df[['Price']])\n",
        "df['Price'] = scaler.transform(df[['Price']])\n",
        "\n"
      ],
      "execution_count": null,
      "outputs": []
    },
    {
      "cell_type": "code",
      "metadata": {
        "colab": {
          "base_uri": "https://localhost:8080/",
          "height": 297
        },
        "id": "dYE7_9ZN0fMs",
        "outputId": "869e517c-3f3e-4d89-fa02-9a195b1b1435"
      },
      "source": [
        "plt.scatter(df.HQM,df['Price'])\n",
        "plt.xlabel('HQM')\n",
        "plt.ylabel('Price')"
      ],
      "execution_count": null,
      "outputs": [
        {
          "output_type": "execute_result",
          "data": {
            "text/plain": [
              "Text(0, 0.5, 'Price')"
            ]
          },
          "metadata": {},
          "execution_count": 10
        },
        {
          "output_type": "display_data",
          "data": {
            "image/png": "[encoded data removed]",
            "text/plain": [
              "<Figure size 432x288 with 1 Axes>"
            ]
          },
          "metadata": {
            "needs_background": "light"
          }
        }
      ]
    },
    {
      "cell_type": "code",
      "metadata": {
        "colab": {
          "base_uri": "https://localhost:8080/"
        },
        "id": "3XoIbnr20fK4",
        "outputId": "727f2118-da9c-4635-f2bd-f3e9579b5808"
      },
      "source": [
        "km = KMeans(n_clusters=2)\n",
        "y_predicted = km.fit_predict(df[['HQM','Price']])\n",
        "y_predicted"
      ],
      "execution_count": null,
      "outputs": [
        {
          "output_type": "execute_result",
          "data": {
            "text/plain": [
              "array([0, 0, 1, 0, 0, 0, 0, 0, 1, 1, 1, 1, 1, 0, 0, 0, 0, 1, 1, 1, 1, 1,\n",
              "       0, 1, 0, 0, 0, 0, 0, 0, 0, 1, 0, 0, 1, 0, 0, 1, 0, 1, 1, 0, 1, 0,\n",
              "       1, 1, 1, 0, 0, 1, 1, 1, 0, 1, 1, 0, 1, 0, 1, 0, 0, 0, 0, 1, 1, 0,\n",
              "       1, 1, 0, 0, 1, 1, 0, 0, 1, 1, 0, 0, 1, 0, 1, 1, 1, 0, 0, 1, 0, 1,\n",
              "       0, 1, 1, 0, 0, 0, 0, 1, 0, 0, 1, 0, 1, 0, 0, 0, 0, 1, 1, 1, 0, 1,\n",
              "       1, 0, 0, 1, 1, 0, 1, 1, 0, 0, 0, 0, 1, 1, 1, 0, 0, 0, 0, 1, 0, 0,\n",
              "       0, 0, 0, 0, 0, 1, 0, 0, 1, 0, 0, 1, 0, 0, 0, 0, 1, 0, 1, 0, 1, 0,\n",
              "       0, 1, 1, 0, 0, 0, 1, 0, 1, 0, 1, 0, 1, 0, 0, 1, 1, 0, 0, 1, 1, 1,\n",
              "       0, 0, 0, 1, 0, 0, 1, 0, 0, 1, 0, 0, 0, 0, 1, 1, 1, 1, 1, 1, 0, 1,\n",
              "       0, 0, 0, 0, 0, 1, 1, 1, 1, 0, 0, 1, 1, 0, 1, 0, 1, 0, 0, 1, 1, 1,\n",
              "       1, 1, 1, 0, 0, 1, 1, 0, 0, 0, 0, 0, 0, 0, 0, 1, 0, 0, 1, 0, 0, 1,\n",
              "       0, 1, 0, 1, 0, 0, 1, 1, 1, 1, 0, 0, 0, 1, 1, 0, 0, 0, 1, 0, 1, 1,\n",
              "       0, 1, 0, 0, 1, 0, 0, 0, 0, 1, 1, 1, 0, 0, 0, 0, 1, 1, 1, 1, 0, 1,\n",
              "       0, 1, 0, 0, 0, 0, 0, 1, 0, 1, 1, 0, 0, 1, 0, 1, 0, 0, 1, 1, 1, 0,\n",
              "       0, 1, 1, 0, 0, 0, 1, 1, 1, 1, 1, 1, 1, 1, 1, 0, 0, 0, 0, 0, 0, 1,\n",
              "       1, 0, 1, 0, 1, 1, 0, 1, 1, 1, 0, 1, 1, 1, 1, 1, 0, 0, 1, 0, 1, 1,\n",
              "       1, 0, 1, 1, 0, 1, 1, 1, 1, 0, 0, 0, 0, 0, 1, 0, 0, 0, 0, 0, 1, 1,\n",
              "       0, 1, 1, 0, 0, 0, 0, 1, 1, 1, 1, 1, 1, 0, 0, 0, 0, 1, 1, 0, 1, 1,\n",
              "       1, 1, 1, 1, 0, 0, 0, 1, 1, 0, 0, 1, 1, 1, 1, 0, 1, 0, 0, 1, 0, 1,\n",
              "       1, 0, 1, 1, 0, 0, 0, 0, 1, 0, 0, 0, 0, 0, 0, 1, 1, 0, 1, 0, 0, 1,\n",
              "       0, 0, 0, 1, 1, 1, 0, 1, 0, 0, 1, 1, 0, 0, 0, 1, 0, 1, 1, 1, 1, 0,\n",
              "       1, 1, 0, 0, 0, 0, 1, 1, 0, 1, 0, 0, 0, 0, 1, 0, 0, 0, 0, 0, 1, 0,\n",
              "       1, 1, 1, 0, 1, 0, 1, 0, 1, 0, 0, 1, 1, 0, 0, 0, 0, 0, 0, 1, 1],\n",
              "      dtype=int32)"
            ]
          },
          "metadata": {},
          "execution_count": 11
        }
      ]
    },
    {
      "cell_type": "code",
      "metadata": {
        "colab": {
          "base_uri": "https://localhost:8080/",
          "height": 467
        },
        "id": "ewR3eBh90z7G",
        "outputId": "aff349b7-2110-420b-be35-8312b1f41ee1"
      },
      "source": [
        "df['cluster']=y_predicted\n",
        "df"
      ],
      "execution_count": null,
      "outputs": [
        {
          "output_type": "execute_result",
          "data": {
            "text/html": [
              "<div>\n",
              "<style scoped>\n",
              "    .dataframe tbody tr th:only-of-type {\n",
              "        vertical-align: middle;\n",
              "    }\n",
              "\n",
              "    .dataframe tbody tr th {\n",
              "        vertical-align: top;\n",
              "    }\n",
              "\n",
              "    .dataframe thead th {\n",
              "        text-align: right;\n",
              "    }\n",
              "</style>\n",
              "<table border=\"1\" class=\"dataframe\">\n",
              "  <thead>\n",
              "    <tr style=\"text-align: right;\">\n",
              "      <th></th>\n",
              "      <th>Ticker</th>\n",
              "      <th>Price</th>\n",
              "      <th>One-Year Price Return</th>\n",
              "      <th>One-Year Return Percentile</th>\n",
              "      <th>Six-Month Price Return</th>\n",
              "      <th>Six-Month Return Percentile</th>\n",
              "      <th>Three-Month Price Return</th>\n",
              "      <th>Three-Month Return Percentile</th>\n",
              "      <th>One-Month Price Return</th>\n",
              "      <th>One-Month Return Percentile</th>\n",
              "      <th>HQM</th>\n",
              "      <th>cluster</th>\n",
              "    </tr>\n",
              "  </thead>\n",
              "  <tbody>\n",
              "    <tr>\n",
              "      <th>0</th>\n",
              "      <td>A</td>\n",
              "      <td>0.031334</td>\n",
              "      <td>0.509828</td>\n",
              "      <td>0.675248</td>\n",
              "      <td>0.168673</td>\n",
              "      <td>0.718812</td>\n",
              "      <td>0.041309</td>\n",
              "      <td>0.514851</td>\n",
              "      <td>-0.081519</td>\n",
              "      <td>0.041584</td>\n",
              "      <td>0.479431</td>\n",
              "      <td>0</td>\n",
              "    </tr>\n",
              "    <tr>\n",
              "      <th>1</th>\n",
              "      <td>AAL</td>\n",
              "      <td>0.002418</td>\n",
              "      <td>0.536985</td>\n",
              "      <td>0.714851</td>\n",
              "      <td>-0.089110</td>\n",
              "      <td>0.152475</td>\n",
              "      <td>-0.093192</td>\n",
              "      <td>0.099010</td>\n",
              "      <td>-0.101734</td>\n",
              "      <td>0.017822</td>\n",
              "      <td>0.231590</td>\n",
              "      <td>0</td>\n",
              "    </tr>\n",
              "    <tr>\n",
              "      <th>2</th>\n",
              "      <td>AAP</td>\n",
              "      <td>0.045285</td>\n",
              "      <td>0.514559</td>\n",
              "      <td>0.687129</td>\n",
              "      <td>0.168286</td>\n",
              "      <td>0.716832</td>\n",
              "      <td>0.077282</td>\n",
              "      <td>0.653465</td>\n",
              "      <td>0.069777</td>\n",
              "      <td>0.724752</td>\n",
              "      <td>0.692737</td>\n",
              "      <td>1</td>\n",
              "    </tr>\n",
              "    <tr>\n",
              "      <th>3</th>\n",
              "      <td>AAPL</td>\n",
              "      <td>0.029060</td>\n",
              "      <td>0.314948</td>\n",
              "      <td>0.457426</td>\n",
              "      <td>0.111530</td>\n",
              "      <td>0.600000</td>\n",
              "      <td>0.002118</td>\n",
              "      <td>0.384158</td>\n",
              "      <td>0.012049</td>\n",
              "      <td>0.417822</td>\n",
              "      <td>0.456069</td>\n",
              "      <td>0</td>\n",
              "    </tr>\n",
              "    <tr>\n",
              "      <th>4</th>\n",
              "      <td>ABBV</td>\n",
              "      <td>0.020150</td>\n",
              "      <td>0.351069</td>\n",
              "      <td>0.514851</td>\n",
              "      <td>-0.003107</td>\n",
              "      <td>0.310891</td>\n",
              "      <td>-0.073517</td>\n",
              "      <td>0.134653</td>\n",
              "      <td>0.025684</td>\n",
              "      <td>0.506931</td>\n",
              "      <td>0.355510</td>\n",
              "      <td>0</td>\n",
              "    </tr>\n",
              "    <tr>\n",
              "      <th>...</th>\n",
              "      <td>...</td>\n",
              "      <td>...</td>\n",
              "      <td>...</td>\n",
              "      <td>...</td>\n",
              "      <td>...</td>\n",
              "      <td>...</td>\n",
              "      <td>...</td>\n",
              "      <td>...</td>\n",
              "      <td>...</td>\n",
              "      <td>...</td>\n",
              "      <td>...</td>\n",
              "      <td>...</td>\n",
              "    </tr>\n",
              "    <tr>\n",
              "      <th>500</th>\n",
              "      <td>YUM</td>\n",
              "      <td>0.023986</td>\n",
              "      <td>0.274120</td>\n",
              "      <td>0.401980</td>\n",
              "      <td>0.080454</td>\n",
              "      <td>0.534653</td>\n",
              "      <td>0.029676</td>\n",
              "      <td>0.473267</td>\n",
              "      <td>0.003365</td>\n",
              "      <td>0.362376</td>\n",
              "      <td>0.433723</td>\n",
              "      <td>0</td>\n",
              "    </tr>\n",
              "    <tr>\n",
              "      <th>501</th>\n",
              "      <td>ZBH</td>\n",
              "      <td>0.028491</td>\n",
              "      <td>0.067559</td>\n",
              "      <td>0.174257</td>\n",
              "      <td>-0.149452</td>\n",
              "      <td>0.071287</td>\n",
              "      <td>-0.054491</td>\n",
              "      <td>0.172277</td>\n",
              "      <td>0.000274</td>\n",
              "      <td>0.346535</td>\n",
              "      <td>0.175216</td>\n",
              "      <td>0</td>\n",
              "    </tr>\n",
              "    <tr>\n",
              "      <th>502</th>\n",
              "      <td>ZBRA</td>\n",
              "      <td>0.108903</td>\n",
              "      <td>0.784300</td>\n",
              "      <td>0.857426</td>\n",
              "      <td>0.073069</td>\n",
              "      <td>0.526733</td>\n",
              "      <td>-0.029942</td>\n",
              "      <td>0.233663</td>\n",
              "      <td>-0.049750</td>\n",
              "      <td>0.104950</td>\n",
              "      <td>0.421026</td>\n",
              "      <td>0</td>\n",
              "    </tr>\n",
              "    <tr>\n",
              "      <th>503</th>\n",
              "      <td>ZION</td>\n",
              "      <td>0.011645</td>\n",
              "      <td>1.073763</td>\n",
              "      <td>0.930693</td>\n",
              "      <td>0.240284</td>\n",
              "      <td>0.845545</td>\n",
              "      <td>0.319500</td>\n",
              "      <td>0.966337</td>\n",
              "      <td>0.097887</td>\n",
              "      <td>0.827723</td>\n",
              "      <td>0.894870</td>\n",
              "      <td>1</td>\n",
              "    </tr>\n",
              "    <tr>\n",
              "      <th>504</th>\n",
              "      <td>ZTS</td>\n",
              "      <td>0.042147</td>\n",
              "      <td>0.305291</td>\n",
              "      <td>0.443564</td>\n",
              "      <td>0.250747</td>\n",
              "      <td>0.869307</td>\n",
              "      <td>0.039983</td>\n",
              "      <td>0.510891</td>\n",
              "      <td>0.033418</td>\n",
              "      <td>0.550495</td>\n",
              "      <td>0.588116</td>\n",
              "      <td>1</td>\n",
              "    </tr>\n",
              "  </tbody>\n",
              "</table>\n",
              "<p>505 rows × 12 columns</p>\n",
              "</div>"
            ],
            "text/plain": [
              "    Ticker     Price  ...       HQM  cluster\n",
              "0        A  0.031334  ...  0.479431        0\n",
              "1      AAL  0.002418  ...  0.231590        0\n",
              "2      AAP  0.045285  ...  0.692737        1\n",
              "3     AAPL  0.029060  ...  0.456069        0\n",
              "4     ABBV  0.020150  ...  0.355510        0\n",
              "..     ...       ...  ...       ...      ...\n",
              "500    YUM  0.023986  ...  0.433723        0\n",
              "501    ZBH  0.028491  ...  0.175216        0\n",
              "502   ZBRA  0.108903  ...  0.421026        0\n",
              "503   ZION  0.011645  ...  0.894870        1\n",
              "504    ZTS  0.042147  ...  0.588116        1\n",
              "\n",
              "[505 rows x 12 columns]"
            ]
          },
          "metadata": {},
          "execution_count": 12
        }
      ]
    },
    {
      "cell_type": "code",
      "metadata": {
        "colab": {
          "base_uri": "https://localhost:8080/"
        },
        "id": "kZXoJQEX06Yi",
        "outputId": "567d3e75-c6de-496e-e11a-8f9b0f08ef52"
      },
      "source": [
        "km.cluster_centers_"
      ],
      "execution_count": null,
      "outputs": [
        {
          "output_type": "execute_result",
          "data": {
            "text/plain": [
              "array([[0.29798219, 0.03712933],\n",
              "       [0.71916414, 0.04082997]])"
            ]
          },
          "metadata": {},
          "execution_count": 13
        }
      ]
    },
    {
      "cell_type": "code",
      "metadata": {
        "colab": {
          "base_uri": "https://localhost:8080/",
          "height": 297
        },
        "id": "7sjtDxfK07zW",
        "outputId": "2d09a099-0690-4a9c-baf0-7a833fd776b5"
      },
      "source": [
        "df1 = df[df.cluster==0]\n",
        "df2 = df[df.cluster==1]\n",
        "# df3 = df[df.cluster==2]\n",
        "plt.scatter(df1.HQM,df1['Price'],color='green')\n",
        "plt.scatter(df2.HQM,df2['Price'],color='red')\n",
        "# plt.scatter(df3.HQM,df3['Price'],color='black')\n",
        "plt.scatter(km.cluster_centers_[:,0],km.cluster_centers_[:,1],color='purple',marker='*',label='centroid')\n",
        "plt.legend()\n",
        "plt.xlabel('HQM')\n",
        "plt.ylabel('Price')"
      ],
      "execution_count": null,
      "outputs": [
        {
          "output_type": "execute_result",
          "data": {
            "text/plain": [
              "Text(0, 0.5, 'Price')"
            ]
          },
          "metadata": {},
          "execution_count": 14
        },
        {
          "output_type": "display_data",
          "data": {
            "image/png": "[encoded data removed]",
            "text/plain": [
              "<Figure size 432x288 with 1 Axes>"
            ]
          },
          "metadata": {
            "needs_background": "light"
          }
        }
      ]
    },
    {
      "cell_type": "markdown",
      "metadata": {
        "id": "dId3aAC77fFj"
      },
      "source": [
        "we make an array for sum of squared error. Then we run a for loop for 10 values of append the km.inertia(which will give us the sum of squared error)"
      ]
    },
    {
      "cell_type": "code",
      "metadata": {
        "id": "Uj5YU9cC7ca1"
      },
      "source": [
        "sse = []\n",
        "k_rng = range(1,10)\n",
        "for k in k_rng:\n",
        "    km = KMeans(n_clusters=k)\n",
        "    km.fit(df[['HQM','Price']])\n",
        "    sse.append(km.inertia_)"
      ],
      "execution_count": null,
      "outputs": []
    },
    {
      "cell_type": "code",
      "metadata": {
        "colab": {
          "base_uri": "https://localhost:8080/"
        },
        "id": "e_LPFyzY875w",
        "outputId": "ffaaf46d-4f01-403a-c750-d0d2db18820d"
      },
      "source": [
        "sse"
      ],
      "execution_count": null,
      "outputs": [
        {
          "output_type": "execute_result",
          "data": {
            "text/plain": [
              "[33.33186606490409,\n",
              " 11.054348801666753,\n",
              " 6.976620457577615,\n",
              " 5.112432416147965,\n",
              " 3.277259236792021,\n",
              " 2.4234594677846704,\n",
              " 2.021169914572265,\n",
              " 1.727464344950787,\n",
              " 1.4916994777338464]"
            ]
          },
          "metadata": {},
          "execution_count": 16
        }
      ]
    },
    {
      "cell_type": "markdown",
      "metadata": {
        "id": "lvg_2X8z9E0g"
      },
      "source": [
        "now we plot the sum of squared error in graph"
      ]
    },
    {
      "cell_type": "code",
      "metadata": {
        "colab": {
          "base_uri": "https://localhost:8080/",
          "height": 297
        },
        "id": "UsiL5BWw9J74",
        "outputId": "a1de4ef5-a2e4-4502-936a-951a7ab06b98"
      },
      "source": [
        "plt.xlabel('HQM')\n",
        "plt.ylabel('Sum of squared error')\n",
        "plt.plot(k_rng,sse)"
      ],
      "execution_count": null,
      "outputs": [
        {
          "output_type": "execute_result",
          "data": {
            "text/plain": [
              "[<matplotlib.lines.Line2D at 0x7fabfeba2110>]"
            ]
          },
          "metadata": {},
          "execution_count": 17
        },
        {
          "output_type": "display_data",
          "data": {
            "image/png": "[encoded data removed]",
            "text/plain": [
              "<Figure size 432x288 with 1 Axes>"
            ]
          },
          "metadata": {
            "needs_background": "light"
          }
        }
      ]
    },
    {
      "cell_type": "markdown",
      "metadata": {
        "id": "oNIR5RZ59PRL"
      },
      "source": [
        "Here we see that the joint of the elbow is at value 3, therefore the optimal value of our K will be 3"
      ]
    },
    {
      "cell_type": "markdown",
      "metadata": {
        "id": "PBptqW-s10t2"
      },
      "source": [
        "#Value Based Strategy\n",
        "\n",
        "\n"
      ]
    },
    {
      "cell_type": "code",
      "metadata": {
        "id": "WPOYOynJ2LOb"
      },
      "source": [
        "read_file.to_csv (\"value_strategy.csv\",\n",
        "\t\t\t\tindex = None,\n",
        "\t\t\t\theader=True)\n",
        "\n",
        "df = pd.DataFrame(pd.read_csv(\"momentum_strategy.csv\"))"
      ],
      "execution_count": null,
      "outputs": []
    },
    {
      "cell_type": "code",
      "metadata": {
        "colab": {
          "base_uri": "https://localhost:8080/",
          "height": 296
        },
        "id": "3YjzT4P72P4k",
        "outputId": "2745d170-42e1-4db8-d1f9-a577b003b8cb"
      },
      "source": [
        "plt.scatter(df['RV'],df['Price'])\n",
        "plt.xlabel('RV')\n",
        "plt.ylabel('Price')"
      ],
      "execution_count": null,
      "outputs": [
        {
          "output_type": "execute_result",
          "data": {
            "text/plain": [
              "Text(0, 0.5, 'Price')"
            ]
          },
          "metadata": {},
          "execution_count": 22
        },
        {
          "output_type": "display_data",
          "data": {
            "image/png": "[encoded data removed]",
            "text/plain": [
              "<Figure size 432x288 with 1 Axes>"
            ]
          },
          "metadata": {
            "needs_background": "light"
          }
        }
      ]
    },
    {
      "cell_type": "code",
      "metadata": {
        "colab": {
          "base_uri": "https://localhost:8080/"
        },
        "id": "7m0tupGH6K6z",
        "outputId": "97b61b02-bc92-48d9-c2f7-7126040a47f8"
      },
      "source": [
        "km = KMeans(n_clusters=2)\n",
        "y_predicted = km.fit_predict(df[['RV','Price']])\n",
        "y_predicted"
      ],
      "execution_count": null,
      "outputs": [
        {
          "output_type": "execute_result",
          "data": {
            "text/plain": [
              "array([0, 0, 0, 0, 0, 0, 0, 0, 0, 0, 0, 0, 0, 0, 0, 0, 0, 0, 0, 0, 0, 0,\n",
              "       0, 0, 0, 0, 0, 0, 0, 0, 0, 0, 0, 0, 0, 0, 1, 0, 0, 0, 0, 0, 0, 0,\n",
              "       0, 0, 0, 0, 0, 0, 0, 0, 0, 0, 1, 0, 0, 0, 0, 0, 0, 0, 0, 0, 0, 1,\n",
              "       0, 0, 0, 0, 0, 0, 0, 0, 0, 0, 0, 0, 0, 0, 0, 0, 0, 0, 0, 0, 0, 0,\n",
              "       0, 0, 0, 0, 0, 0, 0, 0, 0, 0, 0, 0, 0, 1, 0, 0, 0, 0, 0, 0, 0, 0,\n",
              "       0, 0, 0, 0, 0, 0, 0, 0, 0, 0, 0, 0, 0, 0, 0, 0, 0, 0, 0, 0, 0, 0,\n",
              "       0, 0, 0, 0, 0, 0, 0, 0, 0, 0, 0, 0, 0, 0, 0, 0, 0, 0, 0, 0, 0, 0,\n",
              "       0, 0, 0, 0, 0, 0, 0, 0, 0, 0, 0, 0, 0, 0, 0, 0, 0, 0, 0, 0, 0, 0,\n",
              "       0, 0, 0, 0, 0, 0, 0, 0, 0, 0, 0, 0, 0, 0, 0, 0, 0, 0, 0, 0, 0, 0,\n",
              "       0, 0, 0, 0, 0, 0, 1, 1, 0, 0, 0, 0, 0, 0, 0, 0, 0, 0, 0, 0, 0, 0,\n",
              "       0, 0, 0, 0, 0, 0, 0, 0, 0, 0, 0, 0, 0, 0, 0, 0, 0, 0, 0, 0, 0, 0,\n",
              "       0, 0, 0, 0, 0, 0, 0, 0, 0, 0, 0, 0, 0, 0, 0, 0, 0, 0, 0, 0, 0, 0,\n",
              "       0, 0, 0, 0, 0, 0, 0, 0, 0, 0, 0, 0, 0, 0, 0, 0, 0, 0, 0, 0, 0, 0,\n",
              "       0, 0, 0, 0, 0, 0, 0, 0, 0, 0, 0, 0, 0, 0, 0, 0, 0, 0, 0, 0, 0, 0,\n",
              "       0, 0, 0, 0, 0, 0, 0, 0, 0, 0, 0, 0, 0, 0, 0, 1, 0, 0, 0, 0, 0, 0,\n",
              "       0, 0, 0, 0, 0, 0, 0, 0, 0, 0, 0, 0, 0, 0, 0, 0, 1, 0, 0, 0, 0, 0,\n",
              "       0, 0, 0, 0, 0, 0, 0, 0, 0, 0, 0, 0, 0, 0, 0, 0, 0, 0, 0, 0, 0, 0,\n",
              "       0, 0, 0, 0, 0, 0, 0, 0, 0, 0, 0, 0, 0, 0, 0, 0, 0, 0, 0, 0, 0, 0,\n",
              "       0, 0, 0, 0, 0, 0, 0, 0, 0, 0, 0, 0, 0, 0, 0, 0, 0, 0, 0, 0, 0, 0,\n",
              "       0, 0, 0, 0, 0, 0, 0, 0, 0, 0, 0, 0, 0, 0, 0, 0, 0, 0, 0, 0, 0, 0,\n",
              "       0, 0, 0, 0, 0, 0, 0, 0, 0, 0, 0, 0, 0, 0, 0, 0, 0, 0, 0, 0, 0, 0,\n",
              "       0, 0, 0, 0, 0, 0, 0, 0, 0, 0, 0, 0, 0, 0, 0, 0, 0, 0, 0, 0, 0, 0,\n",
              "       0, 0, 0, 0, 0, 0, 0, 0, 0, 0, 0, 0, 0, 0, 0, 0, 0, 0, 0, 0, 0],\n",
              "      dtype=int32)"
            ]
          },
          "metadata": {},
          "execution_count": 24
        }
      ]
    },
    {
      "cell_type": "code",
      "metadata": {
        "colab": {
          "base_uri": "https://localhost:8080/",
          "height": 254
        },
        "id": "kRTnh-Iq6OKM",
        "outputId": "0c727eb8-35df-48c0-bce9-f668f79d9072"
      },
      "source": [
        "df['cluster']=y_predicted\n",
        "df.head()"
      ],
      "execution_count": null,
      "outputs": [
        {
          "output_type": "execute_result",
          "data": {
            "text/html": [
              "<div>\n",
              "<style scoped>\n",
              "    .dataframe tbody tr th:only-of-type {\n",
              "        vertical-align: middle;\n",
              "    }\n",
              "\n",
              "    .dataframe tbody tr th {\n",
              "        vertical-align: top;\n",
              "    }\n",
              "\n",
              "    .dataframe thead th {\n",
              "        text-align: right;\n",
              "    }\n",
              "</style>\n",
              "<table border=\"1\" class=\"dataframe\">\n",
              "  <thead>\n",
              "    <tr style=\"text-align: right;\">\n",
              "      <th></th>\n",
              "      <th>Ticker</th>\n",
              "      <th>Price</th>\n",
              "      <th>Price-to-Earnings Ratio</th>\n",
              "      <th>PE Percentile</th>\n",
              "      <th>Price-to-Book Ratio</th>\n",
              "      <th>PB Percentile</th>\n",
              "      <th>Price-to-Sales Ratio</th>\n",
              "      <th>PS Percentile</th>\n",
              "      <th>EV/EBITDA</th>\n",
              "      <th>EV/EBITDA Percentile</th>\n",
              "      <th>EV/GP</th>\n",
              "      <th>EV/GP Percentile</th>\n",
              "      <th>RV</th>\n",
              "      <th>cluster</th>\n",
              "    </tr>\n",
              "  </thead>\n",
              "  <tbody>\n",
              "    <tr>\n",
              "      <th>0</th>\n",
              "      <td>A</td>\n",
              "      <td>159.27</td>\n",
              "      <td>50.66</td>\n",
              "      <td>0.833663</td>\n",
              "      <td>9.87</td>\n",
              "      <td>0.797030</td>\n",
              "      <td>7.9800</td>\n",
              "      <td>0.811881</td>\n",
              "      <td>32.540248</td>\n",
              "      <td>0.883168</td>\n",
              "      <td>14.984284</td>\n",
              "      <td>0.825743</td>\n",
              "      <td>8.302970</td>\n",
              "      <td>0</td>\n",
              "    </tr>\n",
              "    <tr>\n",
              "      <th>1</th>\n",
              "      <td>AAL</td>\n",
              "      <td>20.19</td>\n",
              "      <td>-3.83</td>\n",
              "      <td>0.071287</td>\n",
              "      <td>-1.69</td>\n",
              "      <td>0.049505</td>\n",
              "      <td>0.5142</td>\n",
              "      <td>0.035644</td>\n",
              "      <td>-7.281999</td>\n",
              "      <td>0.027723</td>\n",
              "      <td>1.507409</td>\n",
              "      <td>0.059406</td>\n",
              "      <td>0.487129</td>\n",
              "      <td>0</td>\n",
              "    </tr>\n",
              "    <tr>\n",
              "      <th>2</th>\n",
              "      <td>AAP</td>\n",
              "      <td>237.25</td>\n",
              "      <td>25.08</td>\n",
              "      <td>0.469307</td>\n",
              "      <td>4.62</td>\n",
              "      <td>0.557426</td>\n",
              "      <td>1.3800</td>\n",
              "      <td>0.173267</td>\n",
              "      <td>12.839341</td>\n",
              "      <td>0.372277</td>\n",
              "      <td>3.062687</td>\n",
              "      <td>0.138614</td>\n",
              "      <td>3.421782</td>\n",
              "      <td>0</td>\n",
              "    </tr>\n",
              "    <tr>\n",
              "      <th>3</th>\n",
              "      <td>AAPL</td>\n",
              "      <td>155.31</td>\n",
              "      <td>30.54</td>\n",
              "      <td>0.600000</td>\n",
              "      <td>38.35</td>\n",
              "      <td>0.960396</td>\n",
              "      <td>7.3400</td>\n",
              "      <td>0.792079</td>\n",
              "      <td>23.626193</td>\n",
              "      <td>0.742574</td>\n",
              "      <td>18.467437</td>\n",
              "      <td>0.893069</td>\n",
              "      <td>7.976238</td>\n",
              "      <td>0</td>\n",
              "    </tr>\n",
              "    <tr>\n",
              "      <th>4</th>\n",
              "      <td>ABBV</td>\n",
              "      <td>109.70</td>\n",
              "      <td>29.39</td>\n",
              "      <td>0.568317</td>\n",
              "      <td>15.70</td>\n",
              "      <td>0.885149</td>\n",
              "      <td>3.7400</td>\n",
              "      <td>0.521782</td>\n",
              "      <td>10.613457</td>\n",
              "      <td>0.277228</td>\n",
              "      <td>7.345826</td>\n",
              "      <td>0.463366</td>\n",
              "      <td>5.431683</td>\n",
              "      <td>0</td>\n",
              "    </tr>\n",
              "  </tbody>\n",
              "</table>\n",
              "</div>"
            ],
            "text/plain": [
              "  Ticker   Price  Price-to-Earnings Ratio  ...  EV/GP Percentile        RV  cluster\n",
              "0      A  159.27                    50.66  ...          0.825743  8.302970        0\n",
              "1    AAL   20.19                    -3.83  ...          0.059406  0.487129        0\n",
              "2    AAP  237.25                    25.08  ...          0.138614  3.421782        0\n",
              "3   AAPL  155.31                    30.54  ...          0.893069  7.976238        0\n",
              "4   ABBV  109.70                    29.39  ...          0.463366  5.431683        0\n",
              "\n",
              "[5 rows x 14 columns]"
            ]
          },
          "metadata": {},
          "execution_count": 25
        }
      ]
    },
    {
      "cell_type": "code",
      "metadata": {
        "colab": {
          "base_uri": "https://localhost:8080/"
        },
        "id": "esjQ7TAm6T5c",
        "outputId": "a928d42b-c8c9-4e58-fdc3-9d4df2719542"
      },
      "source": [
        "km.cluster_centers_\n"
      ],
      "execution_count": null,
      "outputs": [
        {
          "output_type": "execute_result",
          "data": {
            "text/plain": [
              "array([[   4.97871188,  163.24414487],\n",
              "       [   6.94752475, 2708.0775    ]])"
            ]
          },
          "metadata": {},
          "execution_count": 26
        }
      ]
    },
    {
      "cell_type": "code",
      "metadata": {
        "colab": {
          "base_uri": "https://localhost:8080/",
          "height": 296
        },
        "id": "50VEer5v6Wq0",
        "outputId": "eb8296fa-9b61-40d9-ccc2-ff90dd66dbd6"
      },
      "source": [
        "df1 = df[df.cluster==0]\n",
        "df2 = df[df.cluster==1]\n",
        "# df3 = df[df.cluster==2]\n",
        "plt.scatter(df1.RV,df1['Price'],color='green')\n",
        "plt.scatter(df2.RV,df2['Price'],color='red')\n",
        "# plt.scatter(df3.HQM,df3['Price'],color='black')\n",
        "plt.scatter(km.cluster_centers_[:,0],km.cluster_centers_[:,1],color='purple',marker='*',label='centroid')\n",
        "plt.xlabel('RV')\n",
        "plt.ylabel('Price')\n",
        "plt.legend()"
      ],
      "execution_count": null,
      "outputs": [
        {
          "output_type": "execute_result",
          "data": {
            "text/plain": [
              "<matplotlib.legend.Legend at 0x7f5760826fd0>"
            ]
          },
          "metadata": {},
          "execution_count": 27
        },
        {
          "output_type": "display_data",
          "data": {
            "image/png": "[encoded data removed]",
            "text/plain": [
              "<Figure size 432x288 with 1 Axes>"
            ]
          },
          "metadata": {
            "needs_background": "light"
          }
        }
      ]
    },
    {
      "cell_type": "code",
      "metadata": {
        "id": "3poyuw6R6f_f"
      },
      "source": [
        "scaler = MinMaxScaler()\n",
        "\n",
        "scaler.fit(df[['RV']])\n",
        "df['RV'] = scaler.transform(df[['RV']])\n",
        "\n",
        "scaler.fit(df[['Price']])\n",
        "df['Price'] = scaler.transform(df[['Price']])\n",
        "\n"
      ],
      "execution_count": null,
      "outputs": []
    },
    {
      "cell_type": "code",
      "metadata": {
        "colab": {
          "base_uri": "https://localhost:8080/",
          "height": 296
        },
        "id": "XUnSsehN6l-9",
        "outputId": "a7d975b5-b176-4595-df40-a815fd307b06"
      },
      "source": [
        "plt.scatter(df.RV,df['Price'])\n",
        "plt.xlabel('RV')\n",
        "plt.ylabel('Price')"
      ],
      "execution_count": null,
      "outputs": [
        {
          "output_type": "execute_result",
          "data": {
            "text/plain": [
              "Text(0, 0.5, 'Price')"
            ]
          },
          "metadata": {},
          "execution_count": 30
        },
        {
          "output_type": "display_data",
          "data": {
            "image/png": "[encoded data removed]",
            "text/plain": [
              "<Figure size 432x288 with 1 Axes>"
            ]
          },
          "metadata": {
            "needs_background": "light"
          }
        }
      ]
    },
    {
      "cell_type": "code",
      "metadata": {
        "colab": {
          "base_uri": "https://localhost:8080/"
        },
        "id": "re9QQea36sLw",
        "outputId": "f6c88faa-3ea4-4b3f-f563-da3b31303fb1"
      },
      "source": [
        "km = KMeans(n_clusters=2)\n",
        "y_predicted = km.fit_predict(df[['RV','Price']])\n",
        "y_predicted"
      ],
      "execution_count": null,
      "outputs": [
        {
          "output_type": "execute_result",
          "data": {
            "text/plain": [
              "array([1, 0, 0, 1, 1, 0, 1, 1, 1, 1, 1, 0, 1, 1, 0, 0, 0, 0, 0, 0, 0, 1,\n",
              "       1, 1, 1, 0, 0, 1, 1, 1, 0, 1, 1, 1, 1, 1, 1, 1, 1, 0, 1, 1, 0, 1,\n",
              "       1, 1, 1, 0, 1, 1, 1, 1, 1, 0, 0, 0, 0, 1, 0, 1, 0, 1, 0, 1, 0, 1,\n",
              "       0, 1, 1, 0, 1, 1, 1, 0, 1, 0, 0, 0, 1, 1, 0, 1, 0, 1, 0, 1, 1, 0,\n",
              "       1, 1, 0, 1, 0, 0, 0, 0, 1, 1, 0, 0, 1, 1, 0, 0, 0, 0, 0, 1, 1, 0,\n",
              "       1, 0, 0, 1, 1, 1, 1, 1, 1, 0, 0, 1, 0, 0, 0, 1, 0, 0, 0, 0, 0, 0,\n",
              "       0, 1, 1, 0, 1, 0, 1, 0, 1, 0, 1, 1, 1, 0, 0, 0, 1, 0, 1, 1, 0, 1,\n",
              "       0, 1, 0, 1, 0, 1, 0, 1, 1, 0, 1, 1, 1, 0, 0, 1, 0, 0, 0, 1, 0, 0,\n",
              "       1, 1, 0, 0, 0, 0, 1, 1, 1, 0, 1, 0, 1, 0, 1, 0, 1, 1, 0, 1, 1, 0,\n",
              "       0, 0, 0, 0, 1, 0, 1, 1, 0, 1, 0, 1, 0, 1, 1, 0, 0, 0, 0, 1, 0, 0,\n",
              "       0, 0, 1, 0, 1, 0, 0, 0, 1, 0, 0, 1, 0, 1, 0, 1, 1, 1, 1, 1, 1, 1,\n",
              "       0, 1, 0, 0, 1, 1, 1, 1, 1, 1, 1, 0, 1, 0, 0, 1, 1, 0, 0, 0, 0, 1,\n",
              "       0, 1, 1, 1, 0, 0, 1, 0, 0, 1, 0, 0, 0, 0, 0, 0, 1, 1, 0, 1, 0, 0,\n",
              "       1, 0, 1, 0, 1, 1, 0, 0, 1, 1, 1, 0, 1, 1, 0, 1, 0, 1, 0, 1, 0, 1,\n",
              "       1, 1, 1, 0, 1, 0, 0, 0, 1, 0, 0, 1, 1, 1, 0, 1, 0, 1, 1, 1, 0, 1,\n",
              "       1, 0, 1, 0, 1, 0, 0, 0, 0, 1, 0, 1, 1, 0, 0, 1, 0, 0, 1, 0, 1, 1,\n",
              "       1, 0, 0, 1, 0, 0, 1, 1, 0, 0, 1, 0, 1, 0, 0, 1, 0, 1, 0, 0, 0, 1,\n",
              "       0, 0, 1, 0, 1, 0, 0, 0, 1, 0, 0, 1, 0, 1, 1, 1, 0, 0, 1, 0, 0, 1,\n",
              "       0, 0, 1, 1, 1, 1, 1, 1, 1, 1, 1, 1, 1, 1, 1, 0, 1, 1, 0, 1, 0, 1,\n",
              "       1, 0, 1, 0, 1, 1, 0, 1, 0, 1, 1, 0, 0, 1, 1, 1, 0, 1, 0, 1, 1, 1,\n",
              "       0, 0, 1, 0, 1, 0, 1, 1, 1, 1, 0, 1, 1, 0, 0, 1, 0, 1, 0, 0, 1, 0,\n",
              "       0, 0, 1, 1, 1, 0, 0, 1, 0, 1, 1, 1, 1, 0, 1, 1, 0, 0, 0, 1, 0, 0,\n",
              "       0, 1, 1, 0, 0, 0, 1, 0, 0, 1, 0, 1, 0, 0, 0, 1, 1, 1, 1, 0, 1],\n",
              "      dtype=int32)"
            ]
          },
          "metadata": {},
          "execution_count": 32
        }
      ]
    },
    {
      "cell_type": "code",
      "metadata": {
        "colab": {
          "base_uri": "https://localhost:8080/",
          "height": 487
        },
        "id": "l-N3V84c61dR",
        "outputId": "9e177175-8ce7-438d-e52d-1e4b2f4ce348"
      },
      "source": [
        "df['cluster']=y_predicted\n",
        "df"
      ],
      "execution_count": null,
      "outputs": [
        {
          "output_type": "execute_result",
          "data": {
            "text/html": [
              "<div>\n",
              "<style scoped>\n",
              "    .dataframe tbody tr th:only-of-type {\n",
              "        vertical-align: middle;\n",
              "    }\n",
              "\n",
              "    .dataframe tbody tr th {\n",
              "        vertical-align: top;\n",
              "    }\n",
              "\n",
              "    .dataframe thead th {\n",
              "        text-align: right;\n",
              "    }\n",
              "</style>\n",
              "<table border=\"1\" class=\"dataframe\">\n",
              "  <thead>\n",
              "    <tr style=\"text-align: right;\">\n",
              "      <th></th>\n",
              "      <th>Ticker</th>\n",
              "      <th>Price</th>\n",
              "      <th>Price-to-Earnings Ratio</th>\n",
              "      <th>PE Percentile</th>\n",
              "      <th>Price-to-Book Ratio</th>\n",
              "      <th>PB Percentile</th>\n",
              "      <th>Price-to-Sales Ratio</th>\n",
              "      <th>PS Percentile</th>\n",
              "      <th>EV/EBITDA</th>\n",
              "      <th>EV/EBITDA Percentile</th>\n",
              "      <th>EV/GP</th>\n",
              "      <th>EV/GP Percentile</th>\n",
              "      <th>RV</th>\n",
              "      <th>cluster</th>\n",
              "    </tr>\n",
              "  </thead>\n",
              "  <tbody>\n",
              "    <tr>\n",
              "      <th>0</th>\n",
              "      <td>A</td>\n",
              "      <td>0.030256</td>\n",
              "      <td>50.66</td>\n",
              "      <td>0.833663</td>\n",
              "      <td>9.87</td>\n",
              "      <td>0.797030</td>\n",
              "      <td>7.9800</td>\n",
              "      <td>0.811881</td>\n",
              "      <td>32.540248</td>\n",
              "      <td>0.883168</td>\n",
              "      <td>14.984284</td>\n",
              "      <td>0.825743</td>\n",
              "      <td>0.833052</td>\n",
              "      <td>1</td>\n",
              "    </tr>\n",
              "    <tr>\n",
              "      <th>1</th>\n",
              "      <td>AAL</td>\n",
              "      <td>0.002495</td>\n",
              "      <td>-3.83</td>\n",
              "      <td>0.071287</td>\n",
              "      <td>-1.69</td>\n",
              "      <td>0.049505</td>\n",
              "      <td>0.5142</td>\n",
              "      <td>0.035644</td>\n",
              "      <td>-7.281999</td>\n",
              "      <td>0.027723</td>\n",
              "      <td>1.507409</td>\n",
              "      <td>0.059406</td>\n",
              "      <td>0.000000</td>\n",
              "      <td>0</td>\n",
              "    </tr>\n",
              "    <tr>\n",
              "      <th>2</th>\n",
              "      <td>AAP</td>\n",
              "      <td>0.045821</td>\n",
              "      <td>25.08</td>\n",
              "      <td>0.469307</td>\n",
              "      <td>4.62</td>\n",
              "      <td>0.557426</td>\n",
              "      <td>1.3800</td>\n",
              "      <td>0.173267</td>\n",
              "      <td>12.839341</td>\n",
              "      <td>0.372277</td>\n",
              "      <td>3.062687</td>\n",
              "      <td>0.138614</td>\n",
              "      <td>0.312790</td>\n",
              "      <td>0</td>\n",
              "    </tr>\n",
              "    <tr>\n",
              "      <th>3</th>\n",
              "      <td>AAPL</td>\n",
              "      <td>0.029466</td>\n",
              "      <td>30.54</td>\n",
              "      <td>0.600000</td>\n",
              "      <td>38.35</td>\n",
              "      <td>0.960396</td>\n",
              "      <td>7.3400</td>\n",
              "      <td>0.792079</td>\n",
              "      <td>23.626193</td>\n",
              "      <td>0.742574</td>\n",
              "      <td>18.467437</td>\n",
              "      <td>0.893069</td>\n",
              "      <td>0.798227</td>\n",
              "      <td>1</td>\n",
              "    </tr>\n",
              "    <tr>\n",
              "      <th>4</th>\n",
              "      <td>ABBV</td>\n",
              "      <td>0.020362</td>\n",
              "      <td>29.39</td>\n",
              "      <td>0.568317</td>\n",
              "      <td>15.70</td>\n",
              "      <td>0.885149</td>\n",
              "      <td>3.7400</td>\n",
              "      <td>0.521782</td>\n",
              "      <td>10.613457</td>\n",
              "      <td>0.277228</td>\n",
              "      <td>7.345826</td>\n",
              "      <td>0.463366</td>\n",
              "      <td>0.527016</td>\n",
              "      <td>1</td>\n",
              "    </tr>\n",
              "    <tr>\n",
              "      <th>...</th>\n",
              "      <td>...</td>\n",
              "      <td>...</td>\n",
              "      <td>...</td>\n",
              "      <td>...</td>\n",
              "      <td>...</td>\n",
              "      <td>...</td>\n",
              "      <td>...</td>\n",
              "      <td>...</td>\n",
              "      <td>...</td>\n",
              "      <td>...</td>\n",
              "      <td>...</td>\n",
              "      <td>...</td>\n",
              "      <td>...</td>\n",
              "      <td>...</td>\n",
              "    </tr>\n",
              "    <tr>\n",
              "      <th>500</th>\n",
              "      <td>YUM</td>\n",
              "      <td>0.024182</td>\n",
              "      <td>28.96</td>\n",
              "      <td>0.560396</td>\n",
              "      <td>-4.77</td>\n",
              "      <td>0.045545</td>\n",
              "      <td>6.1500</td>\n",
              "      <td>0.740594</td>\n",
              "      <td>20.803502</td>\n",
              "      <td>0.695050</td>\n",
              "      <td>10.210325</td>\n",
              "      <td>0.659406</td>\n",
              "      <td>0.523850</td>\n",
              "      <td>1</td>\n",
              "    </tr>\n",
              "    <tr>\n",
              "      <th>501</th>\n",
              "      <td>ZBH</td>\n",
              "      <td>0.030010</td>\n",
              "      <td>35.70</td>\n",
              "      <td>0.689109</td>\n",
              "      <td>2.50</td>\n",
              "      <td>0.326733</td>\n",
              "      <td>4.1800</td>\n",
              "      <td>0.570297</td>\n",
              "      <td>20.637369</td>\n",
              "      <td>0.683168</td>\n",
              "      <td>6.849213</td>\n",
              "      <td>0.423762</td>\n",
              "      <td>0.522161</td>\n",
              "      <td>1</td>\n",
              "    </tr>\n",
              "    <tr>\n",
              "      <th>502</th>\n",
              "      <td>ZBRA</td>\n",
              "      <td>0.104836</td>\n",
              "      <td>37.93</td>\n",
              "      <td>0.710891</td>\n",
              "      <td>11.22</td>\n",
              "      <td>0.821782</td>\n",
              "      <td>5.7200</td>\n",
              "      <td>0.683168</td>\n",
              "      <td>28.241065</td>\n",
              "      <td>0.831683</td>\n",
              "      <td>11.898066</td>\n",
              "      <td>0.736634</td>\n",
              "      <td>0.754749</td>\n",
              "      <td>1</td>\n",
              "    </tr>\n",
              "    <tr>\n",
              "      <th>503</th>\n",
              "      <td>ZION</td>\n",
              "      <td>0.011856</td>\n",
              "      <td>6.58</td>\n",
              "      <td>0.089109</td>\n",
              "      <td>1.46</td>\n",
              "      <td>0.135644</td>\n",
              "      <td>3.1900</td>\n",
              "      <td>0.452475</td>\n",
              "      <td>5.220272</td>\n",
              "      <td>0.055446</td>\n",
              "      <td>2.776669</td>\n",
              "      <td>0.124752</td>\n",
              "      <td>0.130857</td>\n",
              "      <td>0</td>\n",
              "    </tr>\n",
              "    <tr>\n",
              "      <th>504</th>\n",
              "      <td>ZTS</td>\n",
              "      <td>0.040913</td>\n",
              "      <td>53.69</td>\n",
              "      <td>0.851485</td>\n",
              "      <td>23.61</td>\n",
              "      <td>0.934653</td>\n",
              "      <td>13.4800</td>\n",
              "      <td>0.914851</td>\n",
              "      <td>36.975440</td>\n",
              "      <td>0.910891</td>\n",
              "      <td>19.966511</td>\n",
              "      <td>0.922772</td>\n",
              "      <td>0.914732</td>\n",
              "      <td>1</td>\n",
              "    </tr>\n",
              "  </tbody>\n",
              "</table>\n",
              "<p>505 rows × 14 columns</p>\n",
              "</div>"
            ],
            "text/plain": [
              "    Ticker     Price  ...        RV  cluster\n",
              "0        A  0.030256  ...  0.833052        1\n",
              "1      AAL  0.002495  ...  0.000000        0\n",
              "2      AAP  0.045821  ...  0.312790        0\n",
              "3     AAPL  0.029466  ...  0.798227        1\n",
              "4     ABBV  0.020362  ...  0.527016        1\n",
              "..     ...       ...  ...       ...      ...\n",
              "500    YUM  0.024182  ...  0.523850        1\n",
              "501    ZBH  0.030010  ...  0.522161        1\n",
              "502   ZBRA  0.104836  ...  0.754749        1\n",
              "503   ZION  0.011856  ...  0.130857        0\n",
              "504    ZTS  0.040913  ...  0.914732        1\n",
              "\n",
              "[505 rows x 14 columns]"
            ]
          },
          "metadata": {},
          "execution_count": 33
        }
      ]
    },
    {
      "cell_type": "code",
      "metadata": {
        "colab": {
          "base_uri": "https://localhost:8080/"
        },
        "id": "nOCUftZ665lx",
        "outputId": "f6606262-a1bf-4b83-c8c3-3fc14556559b"
      },
      "source": [
        "km.cluster_centers_"
      ],
      "execution_count": null,
      "outputs": [
        {
          "output_type": "execute_result",
          "data": {
            "text/plain": [
              "array([[0.25573205, 0.0248241 ],\n",
              "       [0.69197474, 0.05233311]])"
            ]
          },
          "metadata": {},
          "execution_count": 34
        }
      ]
    },
    {
      "cell_type": "code",
      "metadata": {
        "id": "9gPJvmok69Am",
        "colab": {
          "base_uri": "https://localhost:8080/",
          "height": 296
        },
        "outputId": "240fd8a7-5184-43e5-c81d-ba60c956e9b1"
      },
      "source": [
        "df1 = df[df.cluster==0]\n",
        "df2 = df[df.cluster==1]\n",
        "# df3 = df[df.cluster==2]\n",
        "plt.scatter(df1.RV,df1['Price'],color='green')\n",
        "plt.scatter(df2.RV,df2['Price'],color='red')\n",
        "# plt.scatter(df3.HQM,df3['Price'],color='black')\n",
        "plt.scatter(km.cluster_centers_[:,0],km.cluster_centers_[:,1],color='purple',marker='*',label='centroid')\n",
        "plt.legend()\n",
        "plt.xlabel('RV')\n",
        "plt.ylabel('Price')"
      ],
      "execution_count": null,
      "outputs": [
        {
          "output_type": "execute_result",
          "data": {
            "text/plain": [
              "Text(0, 0.5, 'Price')"
            ]
          },
          "metadata": {},
          "execution_count": 36
        },
        {
          "output_type": "display_data",
          "data": {
            "image/png": "[encoded data removed]",
            "text/plain": [
              "<Figure size 432x288 with 1 Axes>"
            ]
          },
          "metadata": {
            "needs_background": "light"
          }
        }
      ]
    }
  ]
}